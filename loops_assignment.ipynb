{
  "nbformat": 4,
  "nbformat_minor": 0,
  "metadata": {
    "colab": {
      "provenance": [],
      "authorship_tag": "ABX9TyOZmRis/6Xu9OBLufHSR1Mh",
      "include_colab_link": true
    },
    "kernelspec": {
      "name": "python3",
      "display_name": "Python 3"
    },
    "language_info": {
      "name": "python"
    }
  },
  "cells": [
    {
      "cell_type": "markdown",
      "metadata": {
        "id": "view-in-github",
        "colab_type": "text"
      },
      "source": [
        "<a href=\"https://colab.research.google.com/github/divyakhandelwal2211/regex-python-assignment/blob/main/loops_assignment.ipynb\" target=\"_parent\"><img src=\"https://colab.research.google.com/assets/colab-badge.svg\" alt=\"Open In Colab\"/></a>"
      ]
    },
    {
      "cell_type": "markdown",
      "source": [
        "# for loops"
      ],
      "metadata": {
        "id": "S4uoPPugUE0L"
      }
    },
    {
      "cell_type": "markdown",
      "source": [],
      "metadata": {
        "id": "lxTX0fDRcAVZ"
      }
    },
    {
      "cell_type": "markdown",
      "source": [
        "1.Write a program to print all natural numbers from 1 to n."
      ],
      "metadata": {
        "id": "XBE-Od0LcBk1"
      }
    },
    {
      "cell_type": "code",
      "execution_count": 1,
      "metadata": {
        "colab": {
          "base_uri": "https://localhost:8080/"
        },
        "id": "jzZxTUs_T6w3",
        "outputId": "273df8cf-f852-4fc3-c189-ad5126efc8c3"
      },
      "outputs": [
        {
          "output_type": "stream",
          "name": "stdout",
          "text": [
            "enter the value of n: 10\n",
            "1\n",
            "2\n",
            "3\n",
            "4\n",
            "5\n",
            "6\n",
            "7\n",
            "8\n",
            "9\n",
            "10\n"
          ]
        }
      ],
      "source": [
        "n = int(input(\"enter the value of n: \"))\n",
        "\n",
        "for i in range(1,n+1):\n",
        "  print(i)"
      ]
    },
    {
      "cell_type": "markdown",
      "source": [
        "2. Write a program to print all natural numbers in reverse (from n to 1).\n"
      ],
      "metadata": {
        "id": "GlWCKpkTcOS3"
      }
    },
    {
      "cell_type": "code",
      "source": [
        "n = int(input(\"enter the value of n: \"))\n",
        "\n",
        "for i in range(n,0,-1):\n",
        "  print(i)"
      ],
      "metadata": {
        "colab": {
          "base_uri": "https://localhost:8080/"
        },
        "id": "xYSKcSclUan3",
        "outputId": "012e3cae-ca3e-4431-a9f8-c6d8d990b831"
      },
      "execution_count": 2,
      "outputs": [
        {
          "output_type": "stream",
          "name": "stdout",
          "text": [
            "enter the value of n: 10\n",
            "10\n",
            "9\n",
            "8\n",
            "7\n",
            "6\n",
            "5\n",
            "4\n",
            "3\n",
            "2\n",
            "1\n"
          ]
        }
      ]
    },
    {
      "cell_type": "markdown",
      "source": [
        "3. Write a program to print all even numbers between 1 to 100."
      ],
      "metadata": {
        "id": "tGwpzzyqcTBg"
      }
    },
    {
      "cell_type": "code",
      "source": [
        "for i in range(1,101):\n",
        "  if(i%2==0):\n",
        "    print(i,end=\" \")"
      ],
      "metadata": {
        "colab": {
          "base_uri": "https://localhost:8080/"
        },
        "id": "yRDATZbgZebn",
        "outputId": "8eba3849-5f09-4092-f159-0f462e49ddbc"
      },
      "execution_count": 6,
      "outputs": [
        {
          "output_type": "stream",
          "name": "stdout",
          "text": [
            "2 4 6 8 10 12 14 16 18 20 22 24 26 28 30 32 34 36 38 40 42 44 46 48 50 52 54 56 58 60 62 64 66 68 70 72 74 76 78 80 82 84 86 88 90 92 94 96 98 100 "
          ]
        }
      ]
    },
    {
      "cell_type": "markdown",
      "source": [
        "4. Write a program to find the sum of all odd numbers between 1 to n."
      ],
      "metadata": {
        "id": "y0CL0dJwca4T"
      }
    },
    {
      "cell_type": "code",
      "source": [
        "n = int(input(\"enter the value of n: \"))\n",
        "sum = 0\n",
        "for i in range(1,n+1):\n",
        "  if(i%2!=0):\n",
        "    sum+=i\n",
        "print(sum)"
      ],
      "metadata": {
        "colab": {
          "base_uri": "https://localhost:8080/"
        },
        "id": "syYglXzPZrK4",
        "outputId": "737ba6ce-294a-42d5-810c-7d2e4135bc84"
      },
      "execution_count": 13,
      "outputs": [
        {
          "output_type": "stream",
          "name": "stdout",
          "text": [
            "enter the value of n: 5\n",
            "9\n"
          ]
        }
      ]
    },
    {
      "cell_type": "markdown",
      "source": [
        "5. Write a program to print all alphabets from a to z."
      ],
      "metadata": {
        "id": "7V2CwuqKcfBs"
      }
    },
    {
      "cell_type": "code",
      "source": [
        "for letter in range(ord('a'), ord('z') + 1):\n",
        "    print(chr(letter), end=' ')"
      ],
      "metadata": {
        "colab": {
          "base_uri": "https://localhost:8080/"
        },
        "id": "zxxpoidGaal1",
        "outputId": "29505045-8a9b-466e-e7e9-72b81267ac03"
      },
      "execution_count": 14,
      "outputs": [
        {
          "output_type": "stream",
          "name": "stdout",
          "text": [
            "a b c d e f g h i j k l m n o p q r s t u v w x y z "
          ]
        }
      ]
    },
    {
      "cell_type": "code",
      "source": [],
      "metadata": {
        "id": "SLCreo5hb-XS"
      },
      "execution_count": null,
      "outputs": []
    }
  ]
}