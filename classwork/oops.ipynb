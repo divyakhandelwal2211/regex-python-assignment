{
 "cells": [
  {
   "cell_type": "code",
   "execution_count": null,
   "id": "2f9b1cac",
   "metadata": {},
   "outputs": [
    {
     "name": "stdout",
     "output_type": "stream",
     "text": [
      "yellow\n"
     ]
    }
   ],
   "source": [
    "class HouseDesign:\n",
    "    color = \"yellow\"\n",
    "h1=HouseDesign()        # h1 is an object and color is characterstic\n",
    "print(h1.color)"
   ]
  },
  {
   "cell_type": "code",
   "execution_count": 7,
   "id": "c29fa39e",
   "metadata": {},
   "outputs": [
    {
     "name": "stdout",
     "output_type": "stream",
     "text": [
      "green\n"
     ]
    }
   ],
   "source": [
    "h2=HouseDesign()\n",
    "h2.color=\"green\"\n",
    "print(h2.color)"
   ]
  },
  {
   "cell_type": "code",
   "execution_count": 8,
   "id": "637aec7e",
   "metadata": {},
   "outputs": [
    {
     "name": "stdout",
     "output_type": "stream",
     "text": [
      "yellow\n"
     ]
    }
   ],
   "source": [
    "h3=HouseDesign()\n",
    "print(h3.color)"
   ]
  },
  {
   "cell_type": "code",
   "execution_count": 11,
   "id": "19a59ca7",
   "metadata": {},
   "outputs": [
    {
     "name": "stdout",
     "output_type": "stream",
     "text": [
      "constructor ko call kiya <__main__.HouseDesign object at 0x000001D01B48FE00>\n",
      "h1=>  <__main__.HouseDesign object at 0x000001D01B48FE00>\n",
      "constructor ko call kiya <__main__.HouseDesign object at 0x000001D01B5D4A50>\n",
      "h2=>  <__main__.HouseDesign object at 0x000001D01B5D4A50>\n"
     ]
    }
   ],
   "source": [
    "#function => constructor => initialize memory for an object\n",
    "\n",
    "class HouseDesign():\n",
    "    def __init__(self):     # self store current object's memory address\n",
    "        print(\"constructor ko call kiya\",self)\n",
    "    \n",
    "h1 = HouseDesign()      # h1 takes the memory address from the class contructor\n",
    "print(\"h1=> \",h1)\n",
    "\n",
    "h2 = HouseDesign()\n",
    "print(\"h2=> \",h2)"
   ]
  },
  {
   "cell_type": "code",
   "execution_count": 14,
   "id": "da51acbc",
   "metadata": {},
   "outputs": [
    {
     "name": "stdout",
     "output_type": "stream",
     "text": [
      "green\n"
     ]
    }
   ],
   "source": [
    "class HouseDesign():\n",
    "    def __init__(self):\n",
    "        self.color=\"green\"\n",
    "\n",
    "house1 = HouseDesign()\n",
    "print(house1.color)"
   ]
  },
  {
   "cell_type": "code",
   "execution_count": 21,
   "id": "15521d41",
   "metadata": {},
   "outputs": [
    {
     "name": "stdout",
     "output_type": "stream",
     "text": [
      "green 5\n",
      "red 4\n"
     ]
    }
   ],
   "source": [
    "class HouseDesign():\n",
    "    def __init__(self,x,y):\n",
    "        self.color= x \n",
    "        self.room = y\n",
    "\n",
    "house1 = HouseDesign(\"green\",5)\n",
    "print(house1.color,house1.room)\n",
    "\n",
    "house2 = HouseDesign(\"red\",4)\n",
    "print(house2.color,house2.room)"
   ]
  },
  {
   "cell_type": "code",
   "execution_count": 30,
   "id": "df5a276e",
   "metadata": {},
   "outputs": [
    {
     "name": "stdout",
     "output_type": "stream",
     "text": [
      "data is=>  101 divya divya@gmail.com\n"
     ]
    }
   ],
   "source": [
    "class Employee():\n",
    "    def __init__(self,x,y,z):\n",
    "        self.id = x\n",
    "        self.name = y\n",
    "        self.email = z\n",
    "    def info(self):\n",
    "        print(\"data is=> \",self.id,self.name,self.email)\n",
    "\n",
    "emp1 = Employee(101,\"divya\",\"divya@gmail.com\")\n",
    "emp1.info()\n"
   ]
  },
  {
   "cell_type": "code",
   "execution_count": 4,
   "id": "36342c67",
   "metadata": {},
   "outputs": [],
   "source": [
    "class Employee():\n",
    "    company = \"regex\"          # class variable\n",
    "    def __init__(self,x,y):       # parameterized constructor\n",
    "        self.id = x\n",
    "        self.name = y     # id,name => instance variable\n",
    "    \n",
    "emp1 = Employee(10,\"divya\")\n",
    "emp2 = Employee(11,\"harsh\")\n"
   ]
  },
  {
   "cell_type": "code",
   "execution_count": null,
   "id": "e63a7d42",
   "metadata": {},
   "outputs": [
    {
     "name": "stdout",
     "output_type": "stream",
     "text": [
      "regex regex\n",
      "100\n"
     ]
    }
   ],
   "source": [
    "class employee:\n",
    "    company = \"regex\"          #class variable\n",
    "                                # intialized once and can access by both class name and object \n",
    "    def __init__(self):\n",
    "        self.salary = 100\n",
    "e1 = employee()\n",
    "print(employee.company , e1.company)\n",
    "print(e1.salary)            # instance variable only access by object"
   ]
  },
  {
   "cell_type": "code",
   "execution_count": 4,
   "id": "7422b004",
   "metadata": {},
   "outputs": [
    {
     "name": "stdout",
     "output_type": "stream",
     "text": [
      "constructor called 1\n",
      "constructor called 1\n"
     ]
    }
   ],
   "source": [
    "class employee:\n",
    "    count = 0\n",
    "    def __init__(self):\n",
    "        self.count+=1\n",
    "        print(\"constructor called\",self.count)\n",
    "\n",
    "e1 = employee()\n",
    "e2 = employee()\n",
    "        "
   ]
  },
  {
   "cell_type": "code",
   "execution_count": 5,
   "id": "defe28ef",
   "metadata": {},
   "outputs": [
    {
     "name": "stdout",
     "output_type": "stream",
     "text": [
      "constructor called 1\n",
      "constructor called 2\n"
     ]
    }
   ],
   "source": [
    "class employee:\n",
    "    count = 0\n",
    "    def __init__(self):\n",
    "        employee.count+=1\n",
    "        print(\"constructor called\",self.count)\n",
    "\n",
    "e1 = employee()\n",
    "e2 = employee()\n",
    "        "
   ]
  },
  {
   "cell_type": "markdown",
   "id": "80025957",
   "metadata": {},
   "source": [
    "### Interitance"
   ]
  },
  {
   "cell_type": "code",
   "execution_count": 13,
   "id": "e38259c9",
   "metadata": {},
   "outputs": [
    {
     "name": "stdout",
     "output_type": "stream",
     "text": [
      "hello from parent\n",
      "0 500000\n"
     ]
    }
   ],
   "source": [
    "class parent:\n",
    "    amount = 500000\n",
    "    def hello(self):\n",
    "        print(\"hello from parent\")\n",
    "\n",
    "class child(parent):\n",
    "    salary = 0\n",
    "\n",
    "c1 = child()\n",
    "c1.hello()\n",
    "print(c1.salary,c1.amount)\n"
   ]
  },
  {
   "cell_type": "code",
   "execution_count": 14,
   "id": "5079234b",
   "metadata": {},
   "outputs": [
    {
     "name": "stdout",
     "output_type": "stream",
     "text": [
      "hello from parent\n",
      "500000\n"
     ]
    }
   ],
   "source": [
    "class parent:\n",
    "    amount = 500000\n",
    "    def hello(self):\n",
    "        print(\"hello from parent\")\n",
    "\n",
    "class child(parent):\n",
    "    salary = parent.amount\n",
    "\n",
    "c1 = child()\n",
    "c1.hello()\n",
    "print(c1.salary)\n"
   ]
  },
  {
   "cell_type": "code",
   "execution_count": 16,
   "id": "c46e24fe",
   "metadata": {},
   "outputs": [
    {
     "name": "stdout",
     "output_type": "stream",
     "text": [
      "data is =>  10 ramesh ramesh@gmail.com\n"
     ]
    }
   ],
   "source": [
    "class Driver:\n",
    "\n",
    "    def __init__(self,x,y,z):\n",
    "        self.driver_id = x\n",
    "        self.driver_name = y\n",
    "        self.driver_email = z\n",
    "\n",
    "    def show(self):\n",
    "        print(\"data is => \",self.driver_id,self.driver_name,self.driver_email)\n",
    "\n",
    "\n",
    "d1 = Driver(10,\"ramesh\",\"ramesh@gmail.com\")\n",
    "d1.show()\n"
   ]
  },
  {
   "cell_type": "code",
   "execution_count": null,
   "id": "c39c85bc",
   "metadata": {},
   "outputs": [
    {
     "name": "stdout",
     "output_type": "stream",
     "text": [
      "this is class B 10000 100\n",
      "hello\n",
      "this is class A\n"
     ]
    }
   ],
   "source": [
    "class A:\n",
    "    salary = 100\n",
    "    def info(self):\n",
    "        print(\"this is class A\")\n",
    "\n",
    "class B(A):\n",
    "    amount = 10000\n",
    "    def info(self):\n",
    "        print(\"hello\")\n",
    "    def info2(self):\n",
    "        print(\"this is class B\",self.amount,self.salary) \n",
    "        self.info()         \n",
    "        super().info()       # calling parent class method\n",
    "b1 = B()\n",
    "b1.info2()"
   ]
  },
  {
   "cell_type": "markdown",
   "id": "239d31a4",
   "metadata": {},
   "source": [
    "to access current class method alway use self and to access parent class method always use super() keyword"
   ]
  },
  {
   "cell_type": "code",
   "execution_count": 6,
   "id": "3780956f",
   "metadata": {},
   "outputs": [
    {
     "name": "stdout",
     "output_type": "stream",
     "text": [
      "data is => 1008 aman aman@gmail.com\n"
     ]
    }
   ],
   "source": [
    "class Driver:\n",
    "    def __init__(self,x,y,z):\n",
    "        self.id=x\n",
    "        self.name = y\n",
    "        self.email = z\n",
    "    \n",
    "    def info(self):\n",
    "        print(\"data is =>\" , self.id, self.name, self.email)\n",
    "\n",
    "d1=Driver(1008,\"aman\",\"aman@gmail.com\")\n",
    "d1.info()"
   ]
  },
  {
   "cell_type": "code",
   "execution_count": null,
   "id": "e95d28fc",
   "metadata": {},
   "outputs": [],
   "source": [
    "#super().function() <== calling function of parent class\n",
    "#super().__init__(a,b,c) <== __init__(self,x,y,z) "
   ]
  },
  {
   "cell_type": "code",
   "execution_count": 11,
   "id": "ff900dc6",
   "metadata": {},
   "outputs": [
    {
     "name": "stdout",
     "output_type": "stream",
     "text": [
      "data is => 123 naina naina@gmail.com\n"
     ]
    }
   ],
   "source": [
    "class Customer(Driver):\n",
    "    def __init__(self,a,b,c):\n",
    "        super().__init__(a,b,c)\n",
    "\n",
    "    def c_info(self):\n",
    "        super().info()\n",
    "\n",
    "c1=Customer(123,\"naina\",\"naina@gmail.com\")\n",
    "c1.c_info()\n"
   ]
  },
  {
   "cell_type": "markdown",
   "id": "7d887d93",
   "metadata": {},
   "source": [
    "Multilevel inheritance"
   ]
  },
  {
   "cell_type": "code",
   "execution_count": 13,
   "id": "da7f594f",
   "metadata": {},
   "outputs": [
    {
     "name": "stdout",
     "output_type": "stream",
     "text": [
      "10\n",
      "20\n",
      "30\n"
     ]
    }
   ],
   "source": [
    "class A:\n",
    "    a_var = 10\n",
    "\n",
    "class B(A):\n",
    "    b_var = 20\n",
    "\n",
    "class C(B):\n",
    "    c_var = 30\n",
    "\n",
    "c=C()\n",
    "print(c.a_var)\n",
    "print(c.b_var)\n",
    "print(c.c_var)"
   ]
  },
  {
   "cell_type": "code",
   "execution_count": 1,
   "id": "d8ded265",
   "metadata": {},
   "outputs": [
    {
     "name": "stdout",
     "output_type": "stream",
     "text": [
      "Animal created: Buddy\n",
      "Dog created: Buddy, Breed: Golden Retriever\n"
     ]
    }
   ],
   "source": [
    "class Animal:\n",
    "    def __init__(self, name):\n",
    "        self.name = name\n",
    "        print(f\"Animal created: {self.name}\")\n",
    "\n",
    "class Dog(Animal):\n",
    "    def __init__(self, name, breed):\n",
    "        super().__init__(name)  # Call the parent class constructor\n",
    "        self.breed = breed\n",
    "        print(f\"Dog created: {self.name}, Breed: {self.breed}\")\n",
    "\n",
    "# Create a Dog object\n",
    "my_dog = Dog(\"Buddy\", \"Golden Retriever\")"
   ]
  },
  {
   "cell_type": "code",
   "execution_count": null,
   "id": "eaf27de6",
   "metadata": {},
   "outputs": [
    {
     "ename": "TypeError",
     "evalue": "A.info() missing 1 required positional argument: 'x'",
     "output_type": "error",
     "traceback": [
      "\u001b[31m---------------------------------------------------------------------------\u001b[39m",
      "\u001b[31mTypeError\u001b[39m                                 Traceback (most recent call last)",
      "\u001b[36mCell\u001b[39m\u001b[36m \u001b[39m\u001b[32mIn[25]\u001b[39m\u001b[32m, line 9\u001b[39m\n\u001b[32m      6\u001b[39m         \u001b[38;5;28mprint\u001b[39m(\u001b[33m\"\u001b[39m\u001b[33mhey this is second info from A class\u001b[39m\u001b[33m\"\u001b[39m)\n\u001b[32m      8\u001b[39m a1 = A()\n\u001b[32m----> \u001b[39m\u001b[32m9\u001b[39m \u001b[43ma1\u001b[49m\u001b[43m.\u001b[49m\u001b[43minfo\u001b[49m\u001b[43m(\u001b[49m\u001b[43m)\u001b[49m\n\u001b[32m     10\u001b[39m a1.info(\u001b[32m2\u001b[39m)\n",
      "\u001b[31mTypeError\u001b[39m: A.info() missing 1 required positional argument: 'x'"
     ]
    }
   ],
   "source": [
    "class A:\n",
    "    def info(self):\n",
    "        print(\"hey info from A class\")\n",
    "    \n",
    "    def info(self,x):\n",
    "        print(\"hey this is second info from A class\")\n",
    "    \n",
    "a1 = A()\n",
    "a1.info()\n",
    "\n",
    "# thats why overloading not supported in python\n",
    "\n"
   ]
  },
  {
   "cell_type": "code",
   "execution_count": null,
   "id": "df624577",
   "metadata": {},
   "outputs": [
    {
     "name": "stdout",
     "output_type": "stream",
     "text": [
      "hey this is second info from A class\n"
     ]
    }
   ],
   "source": [
    "class A:\n",
    "    def info(self,x):\n",
    "        print(\"hey info from A class\")\n",
    "    \n",
    "    def info(self,*args):\n",
    "        print(\"hey this is second info from A class\")\n",
    "    \n",
    "a1 = A()\n",
    "a1.info()"
   ]
  },
  {
   "cell_type": "markdown",
   "id": "f5f5a026",
   "metadata": {},
   "source": [
    "method overriding (Runtime polymorphism) \n",
    "always occur in parent-child relationship b/w classes"
   ]
  },
  {
   "cell_type": "code",
   "execution_count": 7,
   "id": "111398df",
   "metadata": {},
   "outputs": [
    {
     "name": "stdout",
     "output_type": "stream",
     "text": [
      "hey this is second info from A class\n"
     ]
    }
   ],
   "source": [
    "class A:\n",
    "    def info(self):\n",
    "        print(\"hey info from A class\")\n",
    "\n",
    "class B:   \n",
    "    def info(self):\n",
    "        print(\"hey this is second info from A class\")\n",
    "    \n",
    "a1 = B()\n",
    "a1.info()"
   ]
  },
  {
   "cell_type": "code",
   "execution_count": null,
   "id": "11e491be",
   "metadata": {},
   "outputs": [
    {
     "name": "stdout",
     "output_type": "stream",
     "text": [
      "hey this is second info from A class\n"
     ]
    }
   ],
   "source": [
    "class A:\n",
    "    def info(self):\n",
    "        print(\"hey info from A class\")\n",
    "    \n",
    "    def info(self):             # method overwrites => namespace\n",
    "        print(\"hey this is second info from A class\")\n",
    "    \n",
    "a1 = A()\n",
    "a1.info()"
   ]
  },
  {
   "cell_type": "code",
   "execution_count": null,
   "id": "888ad4c6",
   "metadata": {},
   "outputs": [
    {
     "name": "stdout",
     "output_type": "stream",
     "text": [
      "this is second constructor\n"
     ]
    }
   ],
   "source": [
    "class A:\n",
    "    def __init__(self):\n",
    "        print(\"this is first constructor\")\n",
    "    \n",
    "    def __init__(self):         # constructor overwrite\n",
    "        print(\"this is second constructor\")\n",
    "\n",
    "a1 = A()\n"
   ]
  },
  {
   "cell_type": "code",
   "execution_count": null,
   "id": "5a1b993a",
   "metadata": {},
   "outputs": [
    {
     "name": "stdout",
     "output_type": "stream",
     "text": [
      "10 20\n",
      "30 40\n",
      "<__main__.A object at 0x000001FD5C92E270>\n",
      "<__main__.A object at 0x000001FD5C396710>\n",
      "<__main__.A object at 0x000001FD5C92E270>\n",
      "<__main__.A object at 0x000001FD5C396710>\n"
     ]
    }
   ],
   "source": [
    "# create a class having parameterixed cons parameters a and b\n",
    "\n",
    "class A:\n",
    "    def __init__(self,a,b):\n",
    "        self.a = a\n",
    "        self.b = b\n",
    "    \n",
    "    def __add__(self,x):\n",
    "        print(self)\n",
    "        print(x)\n",
    "\n",
    "a1 = A(10,20)\n",
    "print(a1.a,a1.b)\n",
    "a2 = A(30,40)\n",
    "print(a2.a,a2.b) \n",
    "\n",
    "a1+a2    # calling add function with b2 as parameter\n",
    "print(a1)\n",
    "print(a2)\n",
    "#a1.__add__(b2) # operator overloading\n",
    "#__add__[dunder function]\n",
    "\n"
   ]
  },
  {
   "cell_type": "code",
   "execution_count": null,
   "id": "cf5b6019",
   "metadata": {},
   "outputs": [],
   "source": []
  }
 ],
 "metadata": {
  "kernelspec": {
   "display_name": "Python 3",
   "language": "python",
   "name": "python3"
  },
  "language_info": {
   "codemirror_mode": {
    "name": "ipython",
    "version": 3
   },
   "file_extension": ".py",
   "mimetype": "text/x-python",
   "name": "python",
   "nbconvert_exporter": "python",
   "pygments_lexer": "ipython3",
   "version": "3.13.1"
  }
 },
 "nbformat": 4,
 "nbformat_minor": 5
}
