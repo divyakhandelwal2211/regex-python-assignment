{
 "cells": [
  {
   "cell_type": "code",
   "execution_count": null,
   "id": "2f9b1cac",
   "metadata": {},
   "outputs": [
    {
     "name": "stdout",
     "output_type": "stream",
     "text": [
      "yellow\n"
     ]
    }
   ],
   "source": [
    "class HouseDesign:\n",
    "    color = \"yellow\"\n",
    "h1=HouseDesign()        # h1 is an object and color is characterstic\n",
    "print(h1.color)"
   ]
  },
  {
   "cell_type": "code",
   "execution_count": 7,
   "id": "c29fa39e",
   "metadata": {},
   "outputs": [
    {
     "name": "stdout",
     "output_type": "stream",
     "text": [
      "green\n"
     ]
    }
   ],
   "source": [
    "h2=HouseDesign()\n",
    "h2.color=\"green\"\n",
    "print(h2.color)"
   ]
  },
  {
   "cell_type": "code",
   "execution_count": 8,
   "id": "637aec7e",
   "metadata": {},
   "outputs": [
    {
     "name": "stdout",
     "output_type": "stream",
     "text": [
      "yellow\n"
     ]
    }
   ],
   "source": [
    "h3=HouseDesign()\n",
    "print(h3.color)"
   ]
  },
  {
   "cell_type": "code",
   "execution_count": 11,
   "id": "19a59ca7",
   "metadata": {},
   "outputs": [
    {
     "name": "stdout",
     "output_type": "stream",
     "text": [
      "constructor ko call kiya <__main__.HouseDesign object at 0x000001D01B48FE00>\n",
      "h1=>  <__main__.HouseDesign object at 0x000001D01B48FE00>\n",
      "constructor ko call kiya <__main__.HouseDesign object at 0x000001D01B5D4A50>\n",
      "h2=>  <__main__.HouseDesign object at 0x000001D01B5D4A50>\n"
     ]
    }
   ],
   "source": [
    "#function => constructor => initialize memory for an object\n",
    "\n",
    "class HouseDesign():\n",
    "    def __init__(self):     # self store current object's memory address\n",
    "        print(\"constructor ko call kiya\",self)\n",
    "    \n",
    "h1 = HouseDesign()      # h1 takes the memory address from the class contructor\n",
    "print(\"h1=> \",h1)\n",
    "\n",
    "h2 = HouseDesign()\n",
    "print(\"h2=> \",h2)"
   ]
  },
  {
   "cell_type": "code",
   "execution_count": 14,
   "id": "da51acbc",
   "metadata": {},
   "outputs": [
    {
     "name": "stdout",
     "output_type": "stream",
     "text": [
      "green\n"
     ]
    }
   ],
   "source": [
    "class HouseDesign():\n",
    "    def __init__(self):\n",
    "        self.color=\"green\"\n",
    "\n",
    "house1 = HouseDesign()\n",
    "print(house1.color)"
   ]
  },
  {
   "cell_type": "code",
   "execution_count": 21,
   "id": "15521d41",
   "metadata": {},
   "outputs": [
    {
     "name": "stdout",
     "output_type": "stream",
     "text": [
      "green 5\n",
      "red 4\n"
     ]
    }
   ],
   "source": [
    "class HouseDesign():\n",
    "    def __init__(self,x,y):\n",
    "        self.color= x \n",
    "        self.room = y\n",
    "\n",
    "house1 = HouseDesign(\"green\",5)\n",
    "print(house1.color,house1.room)\n",
    "\n",
    "house2 = HouseDesign(\"red\",4)\n",
    "print(house2.color,house2.room)"
   ]
  },
  {
   "cell_type": "code",
   "execution_count": 30,
   "id": "df5a276e",
   "metadata": {},
   "outputs": [
    {
     "name": "stdout",
     "output_type": "stream",
     "text": [
      "data is=>  101 divya divya@gmail.com\n"
     ]
    }
   ],
   "source": [
    "class Employee():\n",
    "    def __init__(self,x,y,z):\n",
    "        self.id = x\n",
    "        self.name = y\n",
    "        self.email = z\n",
    "    def info(self):\n",
    "        print(\"data is=> \",self.id,self.name,self.email)\n",
    "\n",
    "emp1 = Employee(101,\"divya\",\"divya@gmail.com\")\n",
    "emp1.info()\n"
   ]
  },
  {
   "cell_type": "code",
   "execution_count": null,
   "id": "36342c67",
   "metadata": {},
   "outputs": [],
   "source": []
  }
 ],
 "metadata": {
  "kernelspec": {
   "display_name": "Python 3",
   "language": "python",
   "name": "python3"
  },
  "language_info": {
   "codemirror_mode": {
    "name": "ipython",
    "version": 3
   },
   "file_extension": ".py",
   "mimetype": "text/x-python",
   "name": "python",
   "nbconvert_exporter": "python",
   "pygments_lexer": "ipython3",
   "version": "3.13.1"
  }
 },
 "nbformat": 4,
 "nbformat_minor": 5
}
