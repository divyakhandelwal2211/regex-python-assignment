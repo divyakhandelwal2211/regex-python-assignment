{
 "cells": [
  {
   "cell_type": "code",
   "execution_count": null,
   "id": "2f9b1cac",
   "metadata": {},
   "outputs": [
    {
     "name": "stdout",
     "output_type": "stream",
     "text": [
      "yellow\n"
     ]
    }
   ],
   "source": [
    "class HouseDesign:\n",
    "    color = \"yellow\"\n",
    "h1=HouseDesign()        # h1 is an object and color is characterstic\n",
    "print(h1.color)"
   ]
  },
  {
   "cell_type": "code",
   "execution_count": 7,
   "id": "c29fa39e",
   "metadata": {},
   "outputs": [
    {
     "name": "stdout",
     "output_type": "stream",
     "text": [
      "green\n"
     ]
    }
   ],
   "source": [
    "h2=HouseDesign()\n",
    "h2.color=\"green\"\n",
    "print(h2.color)"
   ]
  },
  {
   "cell_type": "code",
   "execution_count": 8,
   "id": "637aec7e",
   "metadata": {},
   "outputs": [
    {
     "name": "stdout",
     "output_type": "stream",
     "text": [
      "yellow\n"
     ]
    }
   ],
   "source": [
    "h3=HouseDesign()\n",
    "print(h3.color)"
   ]
  },
  {
   "cell_type": "code",
   "execution_count": 11,
   "id": "19a59ca7",
   "metadata": {},
   "outputs": [
    {
     "name": "stdout",
     "output_type": "stream",
     "text": [
      "constructor ko call kiya <__main__.HouseDesign object at 0x000001D01B48FE00>\n",
      "h1=>  <__main__.HouseDesign object at 0x000001D01B48FE00>\n",
      "constructor ko call kiya <__main__.HouseDesign object at 0x000001D01B5D4A50>\n",
      "h2=>  <__main__.HouseDesign object at 0x000001D01B5D4A50>\n"
     ]
    }
   ],
   "source": [
    "#function => constructor => initialize memory for an object\n",
    "\n",
    "class HouseDesign():\n",
    "    def __init__(self):     # self store current object's memory address\n",
    "        print(\"constructor ko call kiya\",self)\n",
    "    \n",
    "h1 = HouseDesign()      # h1 takes the memory address from the class contructor\n",
    "print(\"h1=> \",h1)\n",
    "\n",
    "h2 = HouseDesign()\n",
    "print(\"h2=> \",h2)"
   ]
  },
  {
   "cell_type": "code",
   "execution_count": 14,
   "id": "da51acbc",
   "metadata": {},
   "outputs": [
    {
     "name": "stdout",
     "output_type": "stream",
     "text": [
      "green\n"
     ]
    }
   ],
   "source": [
    "class HouseDesign():\n",
    "    def __init__(self):\n",
    "        self.color=\"green\"\n",
    "\n",
    "house1 = HouseDesign()\n",
    "print(house1.color)"
   ]
  },
  {
   "cell_type": "code",
   "execution_count": 21,
   "id": "15521d41",
   "metadata": {},
   "outputs": [
    {
     "name": "stdout",
     "output_type": "stream",
     "text": [
      "green 5\n",
      "red 4\n"
     ]
    }
   ],
   "source": [
    "class HouseDesign():\n",
    "    def __init__(self,x,y):\n",
    "        self.color= x \n",
    "        self.room = y\n",
    "\n",
    "house1 = HouseDesign(\"green\",5)\n",
    "print(house1.color,house1.room)\n",
    "\n",
    "house2 = HouseDesign(\"red\",4)\n",
    "print(house2.color,house2.room)"
   ]
  },
  {
   "cell_type": "code",
   "execution_count": 30,
   "id": "df5a276e",
   "metadata": {},
   "outputs": [
    {
     "name": "stdout",
     "output_type": "stream",
     "text": [
      "data is=>  101 divya divya@gmail.com\n"
     ]
    }
   ],
   "source": [
    "class Employee():\n",
    "    def __init__(self,x,y,z):\n",
    "        self.id = x\n",
    "        self.name = y\n",
    "        self.email = z\n",
    "    def info(self):\n",
    "        print(\"data is=> \",self.id,self.name,self.email)\n",
    "\n",
    "emp1 = Employee(101,\"divya\",\"divya@gmail.com\")\n",
    "emp1.info()\n"
   ]
  },
  {
   "cell_type": "code",
   "execution_count": null,
   "id": "36342c67",
   "metadata": {},
   "outputs": [],
   "source": [
    "class Employee():\n",
    "    company = \"regex\"          # class variable\n",
    "    def __init__(self,x,y,z):       # parameterized constructor\n",
    "        self.id = x\n",
    "        self.name = y     # id,name => instance variable\n",
    "    \n",
    "emp1 = Employee(10 \"divya\")\n",
    "emp2 = Employee(11,\"harsh\")\n"
   ]
  },
  {
   "cell_type": "code",
   "execution_count": null,
   "id": "e63a7d42",
   "metadata": {},
   "outputs": [
    {
     "name": "stdout",
     "output_type": "stream",
     "text": [
      "regex regex\n",
      "100\n"
     ]
    }
   ],
   "source": [
    "class employee:\n",
    "    company = \"regex\"          #class variable\n",
    "                                # intialized once and can access by both class name and object \n",
    "    def __init__(self):\n",
    "        self.salary = 100\n",
    "e1 = employee()\n",
    "print(employee.company , e1.company)\n",
    "print(e1.salary)            # instance variable only access by object"
   ]
  },
  {
   "cell_type": "code",
   "execution_count": 4,
   "id": "7422b004",
   "metadata": {},
   "outputs": [
    {
     "name": "stdout",
     "output_type": "stream",
     "text": [
      "constructor called 1\n",
      "constructor called 1\n"
     ]
    }
   ],
   "source": [
    "class employee:\n",
    "    count = 0\n",
    "    def __init__(self):\n",
    "        self.count+=1\n",
    "        print(\"constructor called\",self.count)\n",
    "\n",
    "e1 = employee()\n",
    "e2 = employee()\n",
    "        "
   ]
  },
  {
   "cell_type": "code",
   "execution_count": 5,
   "id": "defe28ef",
   "metadata": {},
   "outputs": [
    {
     "name": "stdout",
     "output_type": "stream",
     "text": [
      "constructor called 1\n",
      "constructor called 2\n"
     ]
    }
   ],
   "source": [
    "class employee:\n",
    "    count = 0\n",
    "    def __init__(self):\n",
    "        employee.count+=1\n",
    "        print(\"constructor called\",self.count)\n",
    "\n",
    "e1 = employee()\n",
    "e2 = employee()\n",
    "        "
   ]
  },
  {
   "cell_type": "markdown",
   "id": "80025957",
   "metadata": {},
   "source": [
    "### Interitance"
   ]
  },
  {
   "cell_type": "code",
   "execution_count": 13,
   "id": "e38259c9",
   "metadata": {},
   "outputs": [
    {
     "name": "stdout",
     "output_type": "stream",
     "text": [
      "hello from parent\n",
      "0 500000\n"
     ]
    }
   ],
   "source": [
    "class parent:\n",
    "    amount = 500000\n",
    "    def hello(self):\n",
    "        print(\"hello from parent\")\n",
    "\n",
    "class child(parent):\n",
    "    salary = 0\n",
    "\n",
    "c1 = child()\n",
    "c1.hello()\n",
    "print(c1.salary,c1.amount)\n"
   ]
  },
  {
   "cell_type": "code",
   "execution_count": 14,
   "id": "5079234b",
   "metadata": {},
   "outputs": [
    {
     "name": "stdout",
     "output_type": "stream",
     "text": [
      "hello from parent\n",
      "500000\n"
     ]
    }
   ],
   "source": [
    "class parent:\n",
    "    amount = 500000\n",
    "    def hello(self):\n",
    "        print(\"hello from parent\")\n",
    "\n",
    "class child(parent):\n",
    "    salary = parent.amount\n",
    "\n",
    "c1 = child()\n",
    "c1.hello()\n",
    "print(c1.salary)\n"
   ]
  },
  {
   "cell_type": "code",
   "execution_count": 16,
   "id": "c46e24fe",
   "metadata": {},
   "outputs": [
    {
     "name": "stdout",
     "output_type": "stream",
     "text": [
      "data is =>  10 ramesh ramesh@gmail.com\n"
     ]
    }
   ],
   "source": [
    "class Driver:\n",
    "\n",
    "    def __init__(self,x,y,z):\n",
    "        self.driver_id = x\n",
    "        self.driver_name = y\n",
    "        self.driver_email = z\n",
    "\n",
    "    def show(self):\n",
    "        print(\"data is => \",self.driver_id,self.driver_name,self.driver_email)\n",
    "\n",
    "\n",
    "d1 = Driver(10,\"ramesh\",\"ramesh@gmail.com\")\n",
    "d1.show()\n"
   ]
  },
  {
   "cell_type": "code",
   "execution_count": null,
   "id": "c39c85bc",
   "metadata": {},
   "outputs": [],
   "source": []
  }
 ],
 "metadata": {
  "kernelspec": {
   "display_name": "Python 3",
   "language": "python",
   "name": "python3"
  },
  "language_info": {
   "codemirror_mode": {
    "name": "ipython",
    "version": 3
   },
   "file_extension": ".py",
   "mimetype": "text/x-python",
   "name": "python",
   "nbconvert_exporter": "python",
   "pygments_lexer": "ipython3",
   "version": "3.13.1"
  }
 },
 "nbformat": 4,
 "nbformat_minor": 5
}
