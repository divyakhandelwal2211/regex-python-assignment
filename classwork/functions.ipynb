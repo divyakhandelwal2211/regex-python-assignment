{
 "cells": [
  {
   "cell_type": "code",
   "execution_count": 1,
   "id": "7d581142",
   "metadata": {},
   "outputs": [
    {
     "name": "stdout",
     "output_type": "stream",
     "text": [
      "140731308311752 140731308311752\n",
      "140731308311752 140731308312072\n"
     ]
    }
   ],
   "source": [
    "x=10\n",
    "a=x\n",
    "print(id(x),id(a))\n",
    "a=20\n",
    "print(id(x),id(a))"
   ]
  },
  {
   "cell_type": "code",
   "execution_count": 2,
   "id": "757e4718",
   "metadata": {},
   "outputs": [
    {
     "name": "stdout",
     "output_type": "stream",
     "text": [
      "2621016568960 2621016568960\n",
      "2621016568960 2621016568960 [10, 20, 100] [10, 20, 100]\n"
     ]
    }
   ],
   "source": [
    "x = [10,20]\n",
    "a=x\n",
    "print(id(x),id(a))\n",
    "a.append(100)\n",
    "print(id(x),id(a),x,a)"
   ]
  },
  {
   "cell_type": "code",
   "execution_count": null,
   "id": "de8924b0",
   "metadata": {},
   "outputs": [],
   "source": [
    "# function\n",
    "# these are set of statement\n",
    "#two types - predefined and user-defined\n",
    "# it makes code readable.\n",
    "# helps in debugging\n",
    "# helps to divide code in smaller section\n"
   ]
  },
  {
   "cell_type": "code",
   "execution_count": null,
   "id": "dfbbf33f",
   "metadata": {},
   "outputs": [
    {
     "name": "stdout",
     "output_type": "stream",
     "text": [
      "hello 10 100\n",
      "a: 20\n"
     ]
    }
   ],
   "source": [
    "a=20        #global scope of a variable\n",
    "def test():\n",
    "    y=10    #local scope of a variable\n",
    "    a=100               \n",
    "    print(\"hello\",y,a)\n",
    "test()\n",
    "print(\"a:\",a)\n"
   ]
  },
  {
   "cell_type": "code",
   "execution_count": 12,
   "id": "49becad2",
   "metadata": {},
   "outputs": [
    {
     "name": "stdout",
     "output_type": "stream",
     "text": [
      "hello 10 100\n",
      "a: 100\n"
     ]
    }
   ],
   "source": [
    "a=20        #global scope of a variable\n",
    "def test():\n",
    "    global a\n",
    "    y=10    #local scope of a variable\n",
    "    a=100               \n",
    "    print(\"hello\",y,a)\n",
    "test()\n",
    "print(\"a:\",a)"
   ]
  },
  {
   "cell_type": "code",
   "execution_count": 15,
   "id": "652262e9",
   "metadata": {},
   "outputs": [
    {
     "name": "stdout",
     "output_type": "stream",
     "text": [
      "hello user divya khandelwal\n",
      "hello user harsh sharma\n"
     ]
    }
   ],
   "source": [
    "def msg(username,x):    #username => parameter\n",
    "    print(\"hello user\",username,x)\n",
    "\n",
    "msg(\"divya\",\"khandelwal\")        #divya => argument\n",
    "msg(\"harsh\",\"sharma\")"
   ]
  },
  {
   "cell_type": "code",
   "execution_count": 16,
   "id": "dddae8f1",
   "metadata": {},
   "outputs": [
    {
     "name": "stdout",
     "output_type": "stream",
     "text": [
      "total of starting 5 values is => 15\n",
      "total of starting 7 values is => 28\n"
     ]
    }
   ],
   "source": [
    "def func(num):\n",
    "    total=0\n",
    "    for i in range(1,num+1):\n",
    "        total+=i\n",
    "    print(\"total of starting\",num,\"values is =>\",total)\n",
    "\n",
    "func(5)\n",
    "func(7)"
   ]
  },
  {
   "cell_type": "code",
   "execution_count": 25,
   "id": "c3e22ed1",
   "metadata": {},
   "outputs": [
    {
     "name": "stdout",
     "output_type": "stream",
     "text": [
      "armstrong\n",
      "not armstrong\n"
     ]
    }
   ],
   "source": [
    "def armstrong(num):\n",
    "    total_sum=0\n",
    "    temp = num\n",
    "    \n",
    "    num_digit=len(str(num))\n",
    "\n",
    "    while int(num)>0:\n",
    "        digit=num%10\n",
    "        total_sum+=digit**num_digit\n",
    "        num=num//10\n",
    "    \n",
    "    if total_sum == temp:\n",
    "        print(\"armstrong\")\n",
    "    else:\n",
    "        print(\"not armstrong\")\n",
    "\n",
    "\n",
    "armstrong(153)\n",
    "armstrong(234)"
   ]
  },
  {
   "cell_type": "code",
   "execution_count": null,
   "id": "508f3968",
   "metadata": {},
   "outputs": [
    {
     "name": "stdout",
     "output_type": "stream",
     "text": [
      "A=> 10 B=> 20\n",
      "A=> 20 B=> 10\n",
      "A=> 50 B=> 999\n",
      "A=> 100 B=> 30\n"
     ]
    }
   ],
   "source": [
    "def func(a=100,b=30):   #default argument\n",
    "    print(\"A=>\",a,\"B=>\",b)\n",
    "\n",
    "#func(10) #required argument\n",
    "func(10,20)     # positional argument\n",
    "func(b=10,a=20) #keyword argument\n",
    "func(50,999)\n",
    "func()"
   ]
  },
  {
   "cell_type": "code",
   "execution_count": null,
   "id": "6b22886e",
   "metadata": {},
   "outputs": [
    {
     "name": "stdout",
     "output_type": "stream",
     "text": [
      "(10, 20, 30, 20) <class 'tuple'>\n",
      "() <class 'tuple'>\n"
     ]
    }
   ],
   "source": [
    "def func(*data):  #variable length\n",
    "    print(data,type(data))\n",
    "\n",
    "func(10,20,30,20)\n",
    "func()"
   ]
  },
  {
   "cell_type": "code",
   "execution_count": 9,
   "id": "9435e11a",
   "metadata": {},
   "outputs": [
    {
     "name": "stdout",
     "output_type": "stream",
     "text": [
      "{'age': 10, 'salary': 1000} <class 'dict'>\n",
      "{'name': 'abc', 'age': 30} <class 'dict'>\n"
     ]
    }
   ],
   "source": [
    "def func(**data):        #keyword variable length\n",
    "    print(data,type(data))\n",
    "\n",
    "func(age =10,salary=1000)\n",
    "func(name='abc',age=30)"
   ]
  },
  {
   "cell_type": "code",
   "execution_count": null,
   "id": "c23977cc",
   "metadata": {},
   "outputs": [],
   "source": [
    "# *args -> variable length arguments\n",
    "# **kwargs -> keyword variable length arguments"
   ]
  },
  {
   "cell_type": "code",
   "execution_count": null,
   "id": "797114a8",
   "metadata": {},
   "outputs": [
    {
     "name": "stdout",
     "output_type": "stream",
     "text": [
      "x=> 550\n"
     ]
    }
   ],
   "source": [
    "def shadi(lifafa):\n",
    "    return lifafa+50\n",
    "\n",
    "x=shadi(500)        #calling function\n",
    "print(\"x=>\",x)"
   ]
  },
  {
   "cell_type": "code",
   "execution_count": 1,
   "id": "352e2a67",
   "metadata": {},
   "outputs": [
    {
     "name": "stdout",
     "output_type": "stream",
     "text": [
      "x=> <function square at 0x000001A9AA957380>\n",
      "square=> <function square at 0x000001A9AA957380>\n",
      "100\n",
      "100\n"
     ]
    }
   ],
   "source": [
    "def square(num):\n",
    "    print(num*num)\n",
    "\n",
    "x=square\n",
    "print(\"x=>\",x)\n",
    "print(\"square=>\",square)\n",
    "x(10)\n",
    "square(10)"
   ]
  },
  {
   "cell_type": "code",
   "execution_count": 2,
   "id": "92c7ba6a",
   "metadata": {},
   "outputs": [
    {
     "name": "stdout",
     "output_type": "stream",
     "text": [
      "25\n",
      "10 None\n"
     ]
    }
   ],
   "source": [
    "def square(num):\n",
    "    print(num*num)\n",
    "\n",
    "def addno(a,b):\n",
    "    print(a,b)\n",
    "\n",
    "addno(10,square(5))"
   ]
  },
  {
   "cell_type": "code",
   "execution_count": 3,
   "id": "5a114daa",
   "metadata": {},
   "outputs": [
    {
     "name": "stdout",
     "output_type": "stream",
     "text": [
      "10 25\n"
     ]
    }
   ],
   "source": [
    "def square(num):\n",
    "    return num*num\n",
    "\n",
    "def addno(a,b):\n",
    "    print(a,b)\n",
    "\n",
    "addno(10,square(5))"
   ]
  },
  {
   "cell_type": "code",
   "execution_count": null,
   "id": "56ae721b",
   "metadata": {},
   "outputs": [
    {
     "name": "stdout",
     "output_type": "stream",
     "text": [
      "10 <function square at 0x000001A9AA9922A0>\n",
      "1000\n"
     ]
    }
   ],
   "source": [
    "def square(num):\n",
    "    return num*num\n",
    "\n",
    "def cube(a,b):       # b contain memory add of square function\n",
    "    print(a,b)\n",
    "    print(a*b(a))\n",
    "\n",
    "cube(10,square)"
   ]
  },
  {
   "cell_type": "code",
   "execution_count": 7,
   "id": "c66aeecb",
   "metadata": {},
   "outputs": [
    {
     "name": "stdout",
     "output_type": "stream",
     "text": [
      "15\n",
      "2\n"
     ]
    }
   ],
   "source": [
    "def func(x):\n",
    "    x=15\n",
    "    print(x)\n",
    "\n",
    "a=2\n",
    "func(a)\n",
    "print(a)"
   ]
  },
  {
   "cell_type": "code",
   "execution_count": 10,
   "id": "5e949cce",
   "metadata": {},
   "outputs": [
    {
     "name": "stdout",
     "output_type": "stream",
     "text": [
      "x=> 140731020411848 140731020411848\n",
      "x new=> 140731020412424\n",
      "a=> 2\n"
     ]
    }
   ],
   "source": [
    "def func(x):\n",
    "    print(\"x=>\",id(x),id(a))\n",
    "    x = 20\n",
    "    print(\"x new=>\",id(x))\n",
    "\n",
    "a=2\n",
    "func(a)\n",
    "print(\"a=>\", a)"
   ]
  },
  {
   "cell_type": "code",
   "execution_count": 8,
   "id": "76d4167a",
   "metadata": {},
   "outputs": [
    {
     "name": "stdout",
     "output_type": "stream",
     "text": [
      "x=> 1828223494784 1828223494784\n",
      "x new=> 1828223494784\n",
      "new=> [10, 20, 90]\n"
     ]
    }
   ],
   "source": [
    "def func(x):\n",
    "    print(\"x=>\",id(x),id(mylist))\n",
    "    x.append(90)\n",
    "    print(\"x new=>\",id(x))\n",
    "\n",
    "mylist=[10,20]\n",
    "func(mylist)\n",
    "print(\"new=>\",mylist)"
   ]
  },
  {
   "cell_type": "code",
   "execution_count": 5,
   "id": "bde9ea52",
   "metadata": {},
   "outputs": [
    {
     "name": "stdout",
     "output_type": "stream",
     "text": [
      "10\n"
     ]
    }
   ],
   "source": [
    "def find_second_largest(number):\n",
    "    largest = number[0]\n",
    "    second_largest = number[1]\n",
    "    for i in range(2,len(number)):\n",
    "        if number[i]>largest:\n",
    "            second_largest = largest\n",
    "            largest = number[i]\n",
    "        elif number[i] > second_largest and number[i] != largest:\n",
    "            second_largest=number[i]\n",
    "        \n",
    "    return second_largest\n",
    "\n",
    "number = [10,5,8,20,3]\n",
    "second_largest_num = find_second_largest(number)\n",
    "print(second_largest_num)"
   ]
  },
  {
   "cell_type": "code",
   "execution_count": 3,
   "id": "8c512caa",
   "metadata": {},
   "outputs": [
    {
     "name": "stdout",
     "output_type": "stream",
     "text": [
      "<function greet at 0x00000246168FE8E0>\n",
      "<function greet.<locals>.welcome at 0x000002461691EA20>\n",
      "welcome to IT sector\n"
     ]
    }
   ],
   "source": [
    "def greet():\n",
    "    def welcome():\n",
    "        return \"welcome to IT sector\"\n",
    "    return welcome\n",
    "\n",
    "#call\n",
    "print(greet)\n",
    "\n",
    "greet_var = greet()\n",
    "print(greet_var)\n",
    "print(greet_var())"
   ]
  },
  {
   "cell_type": "code",
   "execution_count": 4,
   "id": "3b557caf",
   "metadata": {},
   "outputs": [
    {
     "name": "stdout",
     "output_type": "stream",
     "text": [
      "{'a': 3, 'ab': 2, 'aba': 2, 'abab': 1, 'ababa': 1, 'b': 2, 'ba': 2, 'bab': 1, 'baba': 1}\n"
     ]
    }
   ],
   "source": [
    "s = 'ababa'\n",
    "my_dict={}\n",
    "for index in range(0,len(s)):\n",
    "    data=\"\"\n",
    "\n",
    "    for j in range(index,len(s)):\n",
    "        data = data+s[j]\n",
    "        if data in my_dict:\n",
    "            my_dict[data]+=1\n",
    "        else:\n",
    "            my_dict[data]=1\n",
    "print(my_dict)\n",
    "        # print(s[index],s[j],data)"
   ]
  },
  {
   "cell_type": "code",
   "execution_count": 9,
   "id": "43b3db1a",
   "metadata": {},
   "outputs": [
    {
     "name": "stdout",
     "output_type": "stream",
     "text": [
      "6\n",
      "3\n"
     ]
    }
   ],
   "source": [
    "str = 'divyaa'\n",
    "count = 0\n",
    "for i in range(len(str)):\n",
    "    count+=1\n",
    "print(count)\n",
    "print(count//2)"
   ]
  },
  {
   "cell_type": "code",
   "execution_count": 2,
   "id": "9a296b6d",
   "metadata": {},
   "outputs": [
    {
     "name": "stdout",
     "output_type": "stream",
     "text": [
      "['this', 'is', 'python']\n"
     ]
    }
   ],
   "source": [
    "def str_split(text,split_position):\n",
    "    split_lst = []\n",
    "    word = \"\"\n",
    "\n",
    "    for i in text:\n",
    "        if i == split_position:\n",
    "            split_lst.append(word)\n",
    "            word = \"\"\n",
    "        \n",
    "        else:\n",
    "            word+=i\n",
    "\n",
    "    return split_lst\n",
    "\n",
    "text = \"this is python prohramming\"\n",
    "result = str_split(text,\" \")\n",
    "print(result) "
   ]
  },
  {
   "cell_type": "code",
   "execution_count": null,
   "id": "998b2c47",
   "metadata": {},
   "outputs": [
    {
     "name": "stdout",
     "output_type": "stream",
     "text": [
      "22\n"
     ]
    }
   ],
   "source": [
    "out = lambda a,b : a+b\n",
    "out(10,12)"
   ]
  },
  {
   "cell_type": "code",
   "execution_count": 5,
   "id": "61413ecc",
   "metadata": {},
   "outputs": [
    {
     "name": "stdout",
     "output_type": "stream",
     "text": [
      "[100, 400, 900]\n"
     ]
    }
   ],
   "source": [
    "def square(num):\n",
    "    return num**2\n",
    "\n",
    "x = map(square,[10,20,30])\n",
    "print(list(x))"
   ]
  },
  {
   "cell_type": "code",
   "execution_count": 6,
   "id": "fd14bce4",
   "metadata": {},
   "outputs": [
    {
     "name": "stdout",
     "output_type": "stream",
     "text": [
      "[100, 400, 900]\n"
     ]
    }
   ],
   "source": [
    "x = map(lambda num:num**2,[10,20,30])\n",
    "print(list(x))"
   ]
  },
  {
   "cell_type": "code",
   "execution_count": 8,
   "id": "62c50653",
   "metadata": {},
   "outputs": [
    {
     "name": "stdout",
     "output_type": "stream",
     "text": [
      "[True, True, True, False, True, False]\n"
     ]
    }
   ],
   "source": [
    "x = map(lambda num:num%2==0,[10,20,30,11,12,19])\n",
    "print(list(x))"
   ]
  },
  {
   "cell_type": "code",
   "execution_count": 9,
   "id": "6e7eb1c1",
   "metadata": {},
   "outputs": [
    {
     "name": "stdout",
     "output_type": "stream",
     "text": [
      "[10, 20, 30, 12]\n"
     ]
    }
   ],
   "source": [
    "x = filter(lambda num:num%2==0,[10,20,30,11,12,19])\n",
    "print(list(x))"
   ]
  },
  {
   "cell_type": "code",
   "execution_count": null,
   "id": "0970d84a",
   "metadata": {},
   "outputs": [],
   "source": []
  }
 ],
 "metadata": {
  "kernelspec": {
   "display_name": "Python 3",
   "language": "python",
   "name": "python3"
  },
  "language_info": {
   "codemirror_mode": {
    "name": "ipython",
    "version": 3
   },
   "file_extension": ".py",
   "mimetype": "text/x-python",
   "name": "python",
   "nbconvert_exporter": "python",
   "pygments_lexer": "ipython3",
   "version": "3.13.1"
  }
 },
 "nbformat": 4,
 "nbformat_minor": 5
}
