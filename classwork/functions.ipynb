{
 "cells": [
  {
   "cell_type": "code",
   "execution_count": 1,
   "id": "7d581142",
   "metadata": {},
   "outputs": [
    {
     "name": "stdout",
     "output_type": "stream",
     "text": [
      "140731308311752 140731308311752\n",
      "140731308311752 140731308312072\n"
     ]
    }
   ],
   "source": [
    "x=10\n",
    "a=x\n",
    "print(id(x),id(a))\n",
    "a=20\n",
    "print(id(x),id(a))"
   ]
  },
  {
   "cell_type": "code",
   "execution_count": 2,
   "id": "757e4718",
   "metadata": {},
   "outputs": [
    {
     "name": "stdout",
     "output_type": "stream",
     "text": [
      "2621016568960 2621016568960\n",
      "2621016568960 2621016568960 [10, 20, 100] [10, 20, 100]\n"
     ]
    }
   ],
   "source": [
    "x = [10,20]\n",
    "a=x\n",
    "print(id(x),id(a))\n",
    "a.append(100)\n",
    "print(id(x),id(a),x,a)"
   ]
  },
  {
   "cell_type": "code",
   "execution_count": null,
   "id": "de8924b0",
   "metadata": {},
   "outputs": [],
   "source": [
    "# function\n",
    "# these are set of statement\n",
    "#two types - predefined and user-defined\n",
    "# it makes code readable.\n",
    "# helps in debugging\n",
    "# helps to divide code in smaller section\n"
   ]
  },
  {
   "cell_type": "code",
   "execution_count": null,
   "id": "dfbbf33f",
   "metadata": {},
   "outputs": [
    {
     "name": "stdout",
     "output_type": "stream",
     "text": [
      "hello 10 100\n",
      "a: 20\n"
     ]
    }
   ],
   "source": [
    "a=20        #global scope of a variable\n",
    "def test():\n",
    "    y=10    #local scope of a variable\n",
    "    a=100               \n",
    "    print(\"hello\",y,a)\n",
    "test()\n",
    "print(\"a:\",a)\n"
   ]
  },
  {
   "cell_type": "code",
   "execution_count": 12,
   "id": "49becad2",
   "metadata": {},
   "outputs": [
    {
     "name": "stdout",
     "output_type": "stream",
     "text": [
      "hello 10 100\n",
      "a: 100\n"
     ]
    }
   ],
   "source": [
    "a=20        #global scope of a variable\n",
    "def test():\n",
    "    global a\n",
    "    y=10    #local scope of a variable\n",
    "    a=100               \n",
    "    print(\"hello\",y,a)\n",
    "test()\n",
    "print(\"a:\",a)"
   ]
  },
  {
   "cell_type": "code",
   "execution_count": 15,
   "id": "652262e9",
   "metadata": {},
   "outputs": [
    {
     "name": "stdout",
     "output_type": "stream",
     "text": [
      "hello user divya khandelwal\n",
      "hello user harsh sharma\n"
     ]
    }
   ],
   "source": [
    "def msg(username,x):    #username => parameter\n",
    "    print(\"hello user\",username,x)\n",
    "\n",
    "msg(\"divya\",\"khandelwal\")        #divya => argument\n",
    "msg(\"harsh\",\"sharma\")"
   ]
  },
  {
   "cell_type": "code",
   "execution_count": 16,
   "id": "dddae8f1",
   "metadata": {},
   "outputs": [
    {
     "name": "stdout",
     "output_type": "stream",
     "text": [
      "total of starting 5 values is => 15\n",
      "total of starting 7 values is => 28\n"
     ]
    }
   ],
   "source": [
    "def func(num):\n",
    "    total=0\n",
    "    for i in range(1,num+1):\n",
    "        total+=i\n",
    "    print(\"total of starting\",num,\"values is =>\",total)\n",
    "\n",
    "func(5)\n",
    "func(7)"
   ]
  },
  {
   "cell_type": "code",
   "execution_count": 25,
   "id": "c3e22ed1",
   "metadata": {},
   "outputs": [
    {
     "name": "stdout",
     "output_type": "stream",
     "text": [
      "armstrong\n",
      "not armstrong\n"
     ]
    }
   ],
   "source": [
    "def armstrong(num):\n",
    "    total_sum=0\n",
    "    temp = num\n",
    "    \n",
    "    num_digit=len(str(num))\n",
    "\n",
    "    while int(num)>0:\n",
    "        digit=num%10\n",
    "        total_sum+=digit**num_digit\n",
    "        num=num//10\n",
    "    \n",
    "    if total_sum == temp:\n",
    "        print(\"armstrong\")\n",
    "    else:\n",
    "        print(\"not armstrong\")\n",
    "\n",
    "\n",
    "armstrong(153)\n",
    "armstrong(234)"
   ]
  },
  {
   "cell_type": "code",
   "execution_count": null,
   "id": "508f3968",
   "metadata": {},
   "outputs": [],
   "source": []
  }
 ],
 "metadata": {
  "kernelspec": {
   "display_name": "Python 3",
   "language": "python",
   "name": "python3"
  },
  "language_info": {
   "codemirror_mode": {
    "name": "ipython",
    "version": 3
   },
   "file_extension": ".py",
   "mimetype": "text/x-python",
   "name": "python",
   "nbconvert_exporter": "python",
   "pygments_lexer": "ipython3",
   "version": "3.13.1"
  }
 },
 "nbformat": 4,
 "nbformat_minor": 5
}
