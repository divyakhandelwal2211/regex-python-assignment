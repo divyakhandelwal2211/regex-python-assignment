{
 "cells": [
  {
   "cell_type": "code",
   "execution_count": 6,
   "id": "0c0d537b",
   "metadata": {},
   "outputs": [
    {
     "name": "stdout",
     "output_type": "stream",
     "text": [
      "[[10, 20], [30, 40]]\n",
      "[[10, 20], [30, 40]]\n",
      "[[99, 20], [30, 40]]\n",
      "[[99, 20], [30, 40]]\n",
      "1853623398976 1853623398976\n"
     ]
    }
   ],
   "source": [
    "import copy\n",
    "data = [[10,20],[30,40]]\n",
    "shallow_data = copy.copy(data)\n",
    "\n",
    "print(shallow_data)\n",
    "print(data)\n",
    "\n",
    "shallow_data[0][0] = 99\n",
    "print(shallow_data)\n",
    "print(data)\n",
    "\n",
    "print(id(shallow_data[0]),id(data[0]))"
   ]
  },
  {
   "cell_type": "code",
   "execution_count": null,
   "id": "008b2f73",
   "metadata": {},
   "outputs": [
    {
     "name": "stdout",
     "output_type": "stream",
     "text": [
      "[[10, 20], [30, 40]]\n",
      "[[10, 20], [30, 40]]\n",
      "[[99, 20], [30, 40]]\n",
      "[[10, 20], [30, 40]]\n",
      "1853624745216 1853624696448\n"
     ]
    }
   ],
   "source": [
    "import copy\n",
    "data = [[10,20],[30,40]]\n",
    "deep_data = copy.deepcopy(data)\n",
    "\n",
    "print(deep_data)\n",
    "print(data)\n",
    "\n",
    "deep_data[0][0] = 99\n",
    "print(deep_data)\n",
    "print(data)\n",
    "\n",
    "print(id(deep_data[0]),id(data[0]))"
   ]
  },
  {
   "cell_type": "code",
   "execution_count": 9,
   "id": "368b4948",
   "metadata": {},
   "outputs": [
    {
     "data": {
      "text/plain": [
       "120"
      ]
     },
     "execution_count": 9,
     "metadata": {},
     "output_type": "execute_result"
    }
   ],
   "source": [
    "def factorial(num):\n",
    "    if num == 1:\n",
    "        return 1\n",
    "    else:\n",
    "        return num * factorial(num-1)\n",
    "\n",
    "factorial(5)"
   ]
  },
  {
   "cell_type": "code",
   "execution_count": 7,
   "id": "c57ca963",
   "metadata": {},
   "outputs": [
    {
     "data": {
      "text/plain": [
       "55"
      ]
     },
     "execution_count": 7,
     "metadata": {},
     "output_type": "execute_result"
    }
   ],
   "source": [
    "def sumrecursion(num):\n",
    "    if num == 0:\n",
    "        return 0\n",
    "    else:\n",
    "        return num + sumrecursion(num - 1)\n",
    "\n",
    "sumrecursion(10)"
   ]
  },
  {
   "cell_type": "code",
   "execution_count": null,
   "id": "5d9620e7",
   "metadata": {},
   "outputs": [],
   "source": []
  }
 ],
 "metadata": {
  "kernelspec": {
   "display_name": "Python 3",
   "language": "python",
   "name": "python3"
  },
  "language_info": {
   "codemirror_mode": {
    "name": "ipython",
    "version": 3
   },
   "file_extension": ".py",
   "mimetype": "text/x-python",
   "name": "python",
   "nbconvert_exporter": "python",
   "pygments_lexer": "ipython3",
   "version": "3.13.1"
  }
 },
 "nbformat": 4,
 "nbformat_minor": 5
}
