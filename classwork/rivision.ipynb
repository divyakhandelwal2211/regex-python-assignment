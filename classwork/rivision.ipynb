{
 "cells": [
  {
   "cell_type": "code",
   "execution_count": 6,
   "id": "0c0d537b",
   "metadata": {},
   "outputs": [
    {
     "name": "stdout",
     "output_type": "stream",
     "text": [
      "[[10, 20], [30, 40]]\n",
      "[[10, 20], [30, 40]]\n",
      "[[99, 20], [30, 40]]\n",
      "[[99, 20], [30, 40]]\n",
      "1853623398976 1853623398976\n"
     ]
    }
   ],
   "source": [
    "import copy\n",
    "data = [[10,20],[30,40]]\n",
    "shallow_data = copy.copy(data)\n",
    "\n",
    "print(shallow_data)\n",
    "print(data)\n",
    "\n",
    "shallow_data[0][0] = 99\n",
    "print(shallow_data)\n",
    "print(data)\n",
    "\n",
    "print(id(shallow_data[0]),id(data[0]))"
   ]
  },
  {
   "cell_type": "code",
   "execution_count": null,
   "id": "008b2f73",
   "metadata": {},
   "outputs": [
    {
     "name": "stdout",
     "output_type": "stream",
     "text": [
      "[[10, 20], [30, 40]]\n",
      "[[10, 20], [30, 40]]\n",
      "[[99, 20], [30, 40]]\n",
      "[[10, 20], [30, 40]]\n",
      "1853624745216 1853624696448\n"
     ]
    }
   ],
   "source": [
    "import copy\n",
    "data = [[10,20],[30,40]]\n",
    "deep_data = copy.deepcopy(data)\n",
    "\n",
    "print(deep_data)\n",
    "print(data)\n",
    "\n",
    "deep_data[0][0] = 99\n",
    "print(deep_data)\n",
    "print(data)\n",
    "\n",
    "print(id(deep_data[0]),id(data[0]))"
   ]
  },
  {
   "cell_type": "code",
   "execution_count": 9,
   "id": "368b4948",
   "metadata": {},
   "outputs": [
    {
     "data": {
      "text/plain": [
       "120"
      ]
     },
     "execution_count": 9,
     "metadata": {},
     "output_type": "execute_result"
    }
   ],
   "source": [
    "def factorial(num):\n",
    "    if num == 1:\n",
    "        return 1\n",
    "    else:\n",
    "        return num * factorial(num-1)\n",
    "\n",
    "factorial(5)"
   ]
  },
  {
   "cell_type": "code",
   "execution_count": 7,
   "id": "c57ca963",
   "metadata": {},
   "outputs": [
    {
     "data": {
      "text/plain": [
       "55"
      ]
     },
     "execution_count": 7,
     "metadata": {},
     "output_type": "execute_result"
    }
   ],
   "source": [
    "def sumrecursion(num):\n",
    "    if num == 0:\n",
    "        return 0\n",
    "    else:\n",
    "        return num + sumrecursion(num - 1)\n",
    "\n",
    "sumrecursion(10)"
   ]
  },
  {
   "cell_type": "code",
   "execution_count": 2,
   "id": "5d9620e7",
   "metadata": {},
   "outputs": [
    {
     "name": "stdout",
     "output_type": "stream",
     "text": [
      "{'h': 2, 'e': 2, 'y': 1, 'l': 2, 'o': 2}\n",
      "'y' -> 1\n"
     ]
    }
   ],
   "source": [
    "str = \"heyhelloo\"\n",
    "frequency = {}\n",
    "for i in str:\n",
    "    if i in frequency:\n",
    "        frequency[i]+=1\n",
    "    else:\n",
    "        frequency[i]=1\n",
    "\n",
    "print(frequency)\n",
    "\n",
    "min = frequency[i]\n",
    "for i,j in frequency.items():\n",
    "    if j < min:\n",
    "        min = frequency[i]\n",
    "\n",
    "for i in frequency:\n",
    "    if frequency[i] == min:\n",
    "        print(f\"'{i}' -> {frequency[i]}\")\n",
    "\n",
    "\n"
   ]
  },
  {
   "cell_type": "code",
   "execution_count": 19,
   "id": "20d675a1",
   "metadata": {},
   "outputs": [
    {
     "name": "stdout",
     "output_type": "stream",
     "text": [
      "True\n"
     ]
    }
   ],
   "source": [
    "str = \"regex software edtech company\"\n",
    "substring  = \"company\"\n",
    "if substring in str:\n",
    "    print(\"True\")\n",
    "else:\n",
    "    print(\"False\")"
   ]
  },
  {
   "cell_type": "code",
   "execution_count": 28,
   "id": "4e0cf2da",
   "metadata": {},
   "outputs": [
    {
     "name": "stdout",
     "output_type": "stream",
     "text": [
      "true\n"
     ]
    }
   ],
   "source": [
    "str = \"regex software edtech company\"\n",
    "for i in str.split():\n",
    "    if i == \"company\":\n",
    "        print(\"true\")\n"
   ]
  },
  {
   "cell_type": "code",
   "execution_count": 29,
   "id": "73aa5b9a",
   "metadata": {},
   "outputs": [
    {
     "name": "stdout",
     "output_type": "stream",
     "text": [
      "true\n"
     ]
    }
   ],
   "source": [
    "str=\"regex software edtech company\"\n",
    "str1 =\"company\"\n",
    "a=0\n",
    "str=str.split(\" \")\n",
    "for i in str:\n",
    "    if str1==i :\n",
    "        a=1\n",
    "if(a==1):\n",
    "    print(\"true\")\n",
    "else:\n",
    "        print(\"false\")"
   ]
  },
  {
   "cell_type": "code",
   "execution_count": 30,
   "id": "1942551c",
   "metadata": {},
   "outputs": [
    {
     "name": "stdout",
     "output_type": "stream",
     "text": [
      "['y']\n"
     ]
    }
   ],
   "source": [
    "str=\"heyhelloo\"\n",
    "list=[]\n",
    "low_freq=[]\n",
    "for i in str:\n",
    "    if i not in list:\n",
    "        list.append(i)\n",
    "        count=0\n",
    "        for j in str:\n",
    "            if i==j:\n",
    "                count+=1\n",
    "        if count==1:\n",
    "            low_freq.append(i)\n",
    "\n",
    "print(low_freq)"
   ]
  },
  {
   "cell_type": "markdown",
   "id": "53fc5a19",
   "metadata": {},
   "source": [
    "Given an array of integers nums and an integer target, return indices of the two numbers such that they add up to target.\n",
    "\n",
    "You may assume that each input would have exactly one solution, and you may not use the same element twice.\n",
    "\n",
    "You can return the answer in any order.\n",
    "\n",
    " \n",
    "\n",
    "Example 1:\n",
    "\n",
    "Input: nums = [2,7,11,15], target = 9\n",
    "Output: [0,1]\n",
    "Explanation: Because nums[0] + nums[1] == 9, we return [0, 1]."
   ]
  },
  {
   "cell_type": "code",
   "execution_count": 1,
   "id": "6506b284",
   "metadata": {},
   "outputs": [
    {
     "name": "stdout",
     "output_type": "stream",
     "text": [
      "[0, 1]\n"
     ]
    }
   ],
   "source": [
    "num = [2,7,11,15]\n",
    "target = 9\n",
    "pos=[]\n",
    "for i in range(0,len(num)):\n",
    "    for j in range(1,len(num)):\n",
    "        if num[i]+num[j]==9:\n",
    "            pos.append(i)\n",
    "            pos.append(j)\n",
    "\n",
    "print(pos)\n"
   ]
  },
  {
   "cell_type": "code",
   "execution_count": null,
   "id": "94cf694c",
   "metadata": {},
   "outputs": [
    {
     "name": "stdout",
     "output_type": "stream",
     "text": [
      "[0, 3]\n"
     ]
    }
   ],
   "source": [
    "def twoSum(nums, target):\n",
    "    num_map = {}  # Dictionary to store number and its index\n",
    "    \n",
    "    for i, num in enumerate(nums):\n",
    "        complement = target - num\n",
    "        if complement in num_map:\n",
    "            return [num_map[complement], i]  # Found the pair\n",
    "        num_map[num] = i  # Store current number with its index\n",
    "\n",
    "nums = [4,7,5,2]\n",
    "target = 6\n",
    "print(twoSum(nums, target))  # Output: [0, 1]\n"
   ]
  },
  {
   "cell_type": "markdown",
   "id": "d7efd8ed",
   "metadata": {},
   "source": [
    "Input: l1 = [2,4,3], l2 = [5,6,4]\n",
    "Output: [7,0,8]\n",
    "Explanation: 342 + 465 = 807.\n",
    "Example 2:\n",
    "\n",
    "Input: l1 = [0], l2 = [0]\n",
    "Output: [0]\n",
    "Example 3:\n",
    "\n",
    "Input: l1 = [9,9,9,9,9,9,9], l2 = [9,9,9,9]\n",
    "Output: [8,9,9,9,0,0,0,1]\n",
    " "
   ]
  },
  {
   "cell_type": "code",
   "execution_count": null,
   "id": "d184aa98",
   "metadata": {},
   "outputs": [],
   "source": []
  }
 ],
 "metadata": {
  "kernelspec": {
   "display_name": "Python 3",
   "language": "python",
   "name": "python3"
  },
  "language_info": {
   "codemirror_mode": {
    "name": "ipython",
    "version": 3
   },
   "file_extension": ".py",
   "mimetype": "text/x-python",
   "name": "python",
   "nbconvert_exporter": "python",
   "pygments_lexer": "ipython3",
   "version": "3.13.1"
  }
 },
 "nbformat": 4,
 "nbformat_minor": 5
}
