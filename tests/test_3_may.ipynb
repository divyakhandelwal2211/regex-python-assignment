{
  "nbformat": 4,
  "nbformat_minor": 0,
  "metadata": {
    "colab": {
      "provenance": []
    },
    "kernelspec": {
      "name": "python3",
      "display_name": "Python 3"
    },
    "language_info": {
      "name": "python"
    }
  },
  "cells": [
    {
      "cell_type": "code",
      "source": [
        "for num in range(2,12):\n",
        "  a = 0\n",
        "  for j in range(2,num):\n",
        "    if(num%j==0):\n",
        "      a = 1\n",
        "      break\n",
        "  if(a==0):\n",
        "   print(num,end=\" \")"
      ],
      "metadata": {
        "colab": {
          "base_uri": "https://localhost:8080/"
        },
        "id": "_aE9oJU523hE",
        "outputId": "d7a54c00-3fae-4a21-905a-ae2ab615c96c"
      },
      "execution_count": null,
      "outputs": [
        {
          "output_type": "stream",
          "name": "stdout",
          "text": [
            "2 3 5 7 11 "
          ]
        }
      ]
    },
    {
      "cell_type": "code",
      "source": [
        "my_list= [ 40, 50, -20, 60, 60, -20, -20]\n",
        "duplicate = []\n",
        "for i in range(len(my_list)):\n",
        "  for j in range(i+1,len(my_list)):\n",
        "    if my_list[i]==my_list[j]:\n",
        "      if my_list[i] not in duplicate:\n",
        "        duplicate.append(my_list[i])\n",
        "print(duplicate)\n",
        "\n",
        "\n",
        "\n"
      ],
      "metadata": {
        "colab": {
          "base_uri": "https://localhost:8080/"
        },
        "id": "7hCCCAfL6g8P",
        "outputId": "984dca7a-b711-4860-bed8-e3093d2bf3b1"
      },
      "execution_count": null,
      "outputs": [
        {
          "output_type": "stream",
          "name": "stdout",
          "text": [
            "[-20, 60]\n"
          ]
        }
      ]
    },
    {
      "cell_type": "code",
      "source": [
        "my_list= [-7,-1,-7,1,8,8]\n",
        "duplicate = []\n",
        "for i in range(len(my_list)):\n",
        "  for j in range(i+1,len(my_list)):\n",
        "    if my_list[i]==my_list[j]:\n",
        "      if my_list[i] not in duplicate:\n",
        "        duplicate.append(my_list[i])\n",
        "print(duplicate)\n",
        "\n",
        "\n",
        "\n"
      ],
      "metadata": {
        "colab": {
          "base_uri": "https://localhost:8080/"
        },
        "id": "I0QERCNhApFz",
        "outputId": "98c24e33-ea5f-4a50-a24a-6417d9601cf4"
      },
      "execution_count": null,
      "outputs": [
        {
          "output_type": "stream",
          "name": "stdout",
          "text": [
            "[-7, 8]\n"
          ]
        }
      ]
    },
    {
      "cell_type": "code",
      "source": [
        "for i in range(4):\n",
        "  for j in range(7):\n",
        "    if(i==0 or i==j or i+j==6):\n",
        "      print(\"*\",end=\"\")\n",
        "    else:\n",
        "      print(\" \",end=\"\")\n",
        "  print()"
      ],
      "metadata": {
        "colab": {
          "base_uri": "https://localhost:8080/"
        },
        "id": "e0Ov_WDgB1Yr",
        "outputId": "b9768558-d5de-4bd7-e15c-d81aa74b1c27"
      },
      "execution_count": null,
      "outputs": [
        {
          "output_type": "stream",
          "name": "stdout",
          "text": [
            "*******\n",
            " *   * \n",
            "  * *  \n",
            "   *   \n"
          ]
        }
      ]
    },
    {
      "cell_type": "code",
      "source": [
        "for i in range(7):\n",
        "  for j in range(4):\n",
        "    if(j==0 or i==j or i+j==8):\n",
        "      print(\"#\",end=\"\")\n",
        "    else:\n",
        "      print(\" \",end=\"\")\n",
        "  print()"
      ],
      "metadata": {
        "colab": {
          "base_uri": "https://localhost:8080/"
        },
        "id": "-XHpkp4iDq5i",
        "outputId": "a8addd5a-e31b-4832-a014-ceca65c82587"
      },
      "execution_count": null,
      "outputs": [
        {
          "output_type": "stream",
          "name": "stdout",
          "text": [
            "#   \n",
            "##  \n",
            "# # \n",
            "#  #\n",
            "#   \n",
            "#  #\n",
            "# # \n"
          ]
        }
      ]
    },
    {
      "cell_type": "code",
      "source": [
        "def horizontal_hollow_pyramid(n):\n",
        "    # Top-to-middle (including the middle line of length n)\n",
        "    for i in range(1, n+1):\n",
        "        for j in range(1, i+1):\n",
        "            # Print a star at the two edges of the row\n",
        "            if j == 1 or j == i:\n",
        "                print(\"#\", end=\"\")\n",
        "            else:\n",
        "                print(\" \", end=\"\")\n",
        "        print()\n",
        "    # Middle-to-bottom (excluding the middle line, mirroring above)\n",
        "    for i in range(n-1, 0, -1):\n",
        "        for j in range(1, i+1):\n",
        "            if j == 1 or j == i:\n",
        "                print(\"#\", end=\"\")\n",
        "            else:\n",
        "                print(\" \", end=\"\")\n",
        "        print()\n",
        "\n",
        "# Example: height = 5\n",
        "horizontal_hollow_pyramid(5)\n"
      ],
      "metadata": {
        "id": "Pqgp_QPOEp5a",
        "colab": {
          "base_uri": "https://localhost:8080/"
        },
        "outputId": "0c6941d9-2034-42a7-c6ff-b9bbc28cfc73"
      },
      "execution_count": null,
      "outputs": [
        {
          "output_type": "stream",
          "name": "stdout",
          "text": [
            "#\n",
            "##\n",
            "# #\n",
            "#  #\n",
            "#   #\n",
            "#  #\n",
            "# #\n",
            "##\n",
            "#\n"
          ]
        }
      ]
    },
    {
      "cell_type": "code",
      "source": [
        "n = 5\n",
        "for i in range(1,n-1):\n",
        "  for j in range(1,i+1):\n",
        "    if(j==1 or i==j):\n",
        "      print(\"#\",end=\" \")\n",
        "    else:\n",
        "      print(\" \",end=\" \")\n",
        "  print()\n",
        "\n",
        "for i in range(1,n):\n",
        "  for j in range(i,n):\n",
        "    if(j==1 or i+j==5):\n",
        "      print(\"#\",end=\" \")\n",
        "    else:\n",
        "      print(\" \",end=\" \")\n",
        "  print()\n"
      ],
      "metadata": {
        "colab": {
          "base_uri": "https://localhost:8080/"
        },
        "id": "ATEOQcFcFSzs",
        "outputId": "0a8b4bce-b2bb-47c6-f41e-ec7358e9196c"
      },
      "execution_count": null,
      "outputs": [
        {
          "output_type": "stream",
          "name": "stdout",
          "text": [
            "# \n",
            "# # \n",
            "#   # \n",
            "#     # \n",
            "  #   \n",
            "    \n",
            "  \n"
          ]
        }
      ]
    },
    {
      "cell_type": "code",
      "source": [
        "x = \"regexian\"\n",
        "y = \"divya\"\n",
        "\n",
        "matched = []\n",
        "for char in x:\n",
        "  if char in y and char not in matched:\n",
        "    matched.append(char)\n",
        "\n",
        "print(matched)\n"
      ],
      "metadata": {
        "colab": {
          "base_uri": "https://localhost:8080/"
        },
        "id": "Z2KWHtmsO3Y7",
        "outputId": "080870e2-6279-4af9-c9a4-21277a4184b8"
      },
      "execution_count": null,
      "outputs": [
        {
          "output_type": "stream",
          "name": "stdout",
          "text": [
            "['i', 'a']\n"
          ]
        }
      ]
    },
    {
      "cell_type": "code",
      "source": [],
      "metadata": {
        "id": "wbohhiYhZKjo"
      },
      "execution_count": null,
      "outputs": []
    }
  ]
}