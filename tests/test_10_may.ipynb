{
  "nbformat": 4,
  "nbformat_minor": 0,
  "metadata": {
    "colab": {
      "provenance": []
    },
    "kernelspec": {
      "name": "python3",
      "display_name": "Python 3"
    },
    "language_info": {
      "name": "python"
    }
  },
  "cells": [
    {
      "cell_type": "code",
      "execution_count": null,
      "metadata": {
        "colab": {
          "base_uri": "https://localhost:8080/"
        },
        "id": "bxaJ57QV27a4",
        "outputId": "58117637-b800-479d-8f87-b888a01adae7"
      },
      "outputs": [
        {
          "output_type": "stream",
          "name": "stdout",
          "text": [
            "* * * * * \n",
            "  *     * \n",
            "    *   * \n",
            "      * * \n",
            "        * \n"
          ]
        }
      ],
      "source": [
        "for i in range(1,6):\n",
        "  for j in range(1,i):\n",
        "    print(\" \",end=\" \")\n",
        "  for j in range(i,6):\n",
        "    if(i==1 or j==5 or j==i):\n",
        "      print(\"*\",end=\" \")\n",
        "    else:\n",
        "      print(\" \",end=\" \")\n",
        "  print()"
      ]
    },
    {
      "cell_type": "code",
      "source": [
        "list1 = [2, -7, 5, -64, -14]\n",
        "list2 = [-12, 14, 95, 3]\n",
        "\n",
        "count_pos1=0\n",
        "count_neg1 = 0\n",
        "\n",
        "for i in range(len(list1)):\n",
        "  if list1[i]>0:\n",
        "    count_pos1+=1\n",
        "  else:\n",
        "\n",
        "    count_neg1+=1\n",
        "\n",
        "count_pos2=0\n",
        "count_neg2=0\n",
        "for i in range(len(list2)):\n",
        "  if list2[i]>0:\n",
        "    count_pos2+=1\n",
        "  else:\n",
        "    count_neg2+=1\n",
        "\n",
        "print(\"pos=>\",count_pos1)\n",
        "print(\"neg=>\",count_neg1)\n",
        "print(\"------------\")\n",
        "\n",
        "print(\"pos=>\",count_pos2)\n",
        "print(\"neg=>\",count_neg2)\n"
      ],
      "metadata": {
        "colab": {
          "base_uri": "https://localhost:8080/"
        },
        "id": "54XBIRqm3nAR",
        "outputId": "bd99d7d3-a5eb-4376-ff42-0452831c70d4"
      },
      "execution_count": null,
      "outputs": [
        {
          "output_type": "stream",
          "name": "stdout",
          "text": [
            "pos=> 2\n",
            "neg=> 3\n",
            "------------\n",
            "pos=> 3\n",
            "neg=> 1\n"
          ]
        }
      ]
    },
    {
      "cell_type": "code",
      "source": [
        "list2 = [-12, 14, 95, 3]\n",
        "count_pos=0\n",
        "count_neg = 0\n",
        "\n",
        "for i in range(len(list2)):\n",
        "  if list2[i]>0:\n",
        "    count_pos+=1\n",
        "  else:\n",
        "    count_neg+=1\n",
        "print(\"pos=>\",count_pos)\n",
        "print(\"neg=>\",count_neg)\n"
      ],
      "metadata": {
        "colab": {
          "base_uri": "https://localhost:8080/"
        },
        "id": "mHGwEcxI4y9c",
        "outputId": "dd05573e-194c-47dc-ab5a-fb453670892d"
      },
      "execution_count": null,
      "outputs": [
        {
          "output_type": "stream",
          "name": "stdout",
          "text": [
            "pos=> 3\n",
            "neg=> 1\n"
          ]
        }
      ]
    },
    {
      "cell_type": "code",
      "source": [
        "n = 5\n",
        "fact = 1\n",
        "for i in range(1,n+1):\n",
        "  fact=fact*i\n",
        "print(fact)"
      ],
      "metadata": {
        "colab": {
          "base_uri": "https://localhost:8080/"
        },
        "id": "OtXfYYy-68lU",
        "outputId": "c2866b7a-f8eb-4c51-aa04-6b83c2fd8918"
      },
      "execution_count": null,
      "outputs": [
        {
          "output_type": "stream",
          "name": "stdout",
          "text": [
            "120\n"
          ]
        }
      ]
    },
    {
      "cell_type": "code",
      "source": [
        "for i in range(4,0,-1):\n",
        "  for j in range(4,i,-1):\n",
        "    print(\" \",end=\"\")\n",
        "  for j in range(1,2*i):\n",
        "    if(j==1 or j==2*i-1 or i==4):\n",
        "      print(\"*\",end=\"\")\n",
        "    else:\n",
        "      print(\" \",end=\"\")\n",
        "  print()"
      ],
      "metadata": {
        "colab": {
          "base_uri": "https://localhost:8080/"
        },
        "id": "SWlSBAey7EWv",
        "outputId": "834e2990-163e-4a73-c827-7fb1b1af0ad7"
      },
      "execution_count": null,
      "outputs": [
        {
          "output_type": "stream",
          "name": "stdout",
          "text": [
            "*******\n",
            " *   *\n",
            "  * *\n",
            "   *\n"
          ]
        }
      ]
    },
    {
      "cell_type": "code",
      "source": [
        "for i in range(1,5):\n",
        "  for j in range(1,i+1):\n",
        "    print(\" \",end=\"\")\n",
        "  for j in range(i,6):\n",
        "    print(\"*\",end=\"\")\n",
        "  print()\n",
        "\n",
        "for i in range(1,6):\n",
        "  for j in range(i,6):\n",
        "    print(\" \",end=\"\")\n",
        "  for j in range(1,i+1):\n",
        "    print(\"*\",end=\"\")\n",
        "  print()\n",
        "\n"
      ],
      "metadata": {
        "colab": {
          "base_uri": "https://localhost:8080/"
        },
        "id": "wfDwnZae762O",
        "outputId": "2b2eea1b-01dc-44f1-cb57-607bfe6b5d59"
      },
      "execution_count": null,
      "outputs": [
        {
          "output_type": "stream",
          "name": "stdout",
          "text": [
            " *****\n",
            "  ****\n",
            "   ***\n",
            "    **\n",
            "     *\n",
            "    **\n",
            "   ***\n",
            "  ****\n",
            " *****\n"
          ]
        }
      ]
    },
    {
      "cell_type": "code",
      "source": [],
      "metadata": {
        "id": "vO1NW9KX96Ni"
      },
      "execution_count": null,
      "outputs": []
    }
  ]
}