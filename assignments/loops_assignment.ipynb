{
  "cells": [
    {
      "cell_type": "markdown",
      "metadata": {
        "colab_type": "text",
        "id": "view-in-github"
      },
      "source": [
        "<a href=\"https://colab.research.google.com/github/divyakhandelwal2211/regex-python-assignment/blob/main/loops_assignment.ipynb\" target=\"_parent\"><img src=\"https://colab.research.google.com/assets/colab-badge.svg\" alt=\"Open In Colab\"/></a>"
      ]
    },
    {
      "cell_type": "markdown",
      "metadata": {
        "id": "S4uoPPugUE0L"
      },
      "source": [
        "# for loops"
      ]
    },
    {
      "cell_type": "markdown",
      "metadata": {
        "id": "lxTX0fDRcAVZ"
      },
      "source": []
    },
    {
      "cell_type": "markdown",
      "metadata": {
        "id": "XBE-Od0LcBk1"
      },
      "source": [
        "1.Write a program to print all natural numbers from 1 to n."
      ]
    },
    {
      "cell_type": "code",
      "execution_count": null,
      "metadata": {
        "colab": {
          "base_uri": "https://localhost:8080/"
        },
        "id": "jzZxTUs_T6w3",
        "outputId": "273df8cf-f852-4fc3-c189-ad5126efc8c3"
      },
      "outputs": [
        {
          "name": "stdout",
          "output_type": "stream",
          "text": [
            "enter the value of n: 10\n",
            "1\n",
            "2\n",
            "3\n",
            "4\n",
            "5\n",
            "6\n",
            "7\n",
            "8\n",
            "9\n",
            "10\n"
          ]
        }
      ],
      "source": [
        "n = int(input(\"enter the value of n: \"))\n",
        "\n",
        "for i in range(1,n+1):\n",
        "  print(i)"
      ]
    },
    {
      "cell_type": "markdown",
      "metadata": {
        "id": "GlWCKpkTcOS3"
      },
      "source": [
        "2. Write a program to print all natural numbers in reverse (from n to 1).\n"
      ]
    },
    {
      "cell_type": "code",
      "execution_count": null,
      "metadata": {
        "colab": {
          "base_uri": "https://localhost:8080/"
        },
        "id": "xYSKcSclUan3",
        "outputId": "012e3cae-ca3e-4431-a9f8-c6d8d990b831"
      },
      "outputs": [
        {
          "name": "stdout",
          "output_type": "stream",
          "text": [
            "enter the value of n: 10\n",
            "10\n",
            "9\n",
            "8\n",
            "7\n",
            "6\n",
            "5\n",
            "4\n",
            "3\n",
            "2\n",
            "1\n"
          ]
        }
      ],
      "source": [
        "n = int(input(\"enter the value of n: \"))\n",
        "\n",
        "for i in range(n,0,-1):\n",
        "  print(i)"
      ]
    },
    {
      "cell_type": "markdown",
      "metadata": {
        "id": "tGwpzzyqcTBg"
      },
      "source": [
        "3. Write a program to print all even numbers between 1 to 100."
      ]
    },
    {
      "cell_type": "code",
      "execution_count": null,
      "metadata": {
        "colab": {
          "base_uri": "https://localhost:8080/"
        },
        "id": "yRDATZbgZebn",
        "outputId": "8eba3849-5f09-4092-f159-0f462e49ddbc"
      },
      "outputs": [
        {
          "name": "stdout",
          "output_type": "stream",
          "text": [
            "2 4 6 8 10 12 14 16 18 20 22 24 26 28 30 32 34 36 38 40 42 44 46 48 50 52 54 56 58 60 62 64 66 68 70 72 74 76 78 80 82 84 86 88 90 92 94 96 98 100 "
          ]
        }
      ],
      "source": [
        "for i in range(1,101):\n",
        "  if(i%2==0):\n",
        "    print(i,end=\" \")"
      ]
    },
    {
      "cell_type": "markdown",
      "metadata": {
        "id": "y0CL0dJwca4T"
      },
      "source": [
        "4. Write a program to find the sum of all odd numbers between 1 to n."
      ]
    },
    {
      "cell_type": "code",
      "execution_count": null,
      "metadata": {
        "colab": {
          "base_uri": "https://localhost:8080/"
        },
        "id": "syYglXzPZrK4",
        "outputId": "737ba6ce-294a-42d5-810c-7d2e4135bc84"
      },
      "outputs": [
        {
          "name": "stdout",
          "output_type": "stream",
          "text": [
            "enter the value of n: 5\n",
            "9\n"
          ]
        }
      ],
      "source": [
        "n = int(input(\"enter the value of n: \"))\n",
        "sum = 0\n",
        "for i in range(1,n+1):\n",
        "  if(i%2!=0):\n",
        "    sum+=i\n",
        "print(sum)"
      ]
    },
    {
      "cell_type": "markdown",
      "metadata": {
        "id": "7V2CwuqKcfBs"
      },
      "source": [
        "5. Write a program to print all alphabets from a to z."
      ]
    },
    {
      "cell_type": "code",
      "execution_count": null,
      "metadata": {
        "colab": {
          "base_uri": "https://localhost:8080/"
        },
        "id": "zxxpoidGaal1",
        "outputId": "29505045-8a9b-466e-e7e9-72b81267ac03"
      },
      "outputs": [
        {
          "name": "stdout",
          "output_type": "stream",
          "text": [
            "a b c d e f g h i j k l m n o p q r s t u v w x y z "
          ]
        }
      ],
      "source": [
        "for letter in range(ord('a'), ord('z') + 1):\n",
        "    print(chr(letter), end=' ')"
      ]
    },
    {
      "cell_type": "markdown",
      "metadata": {
        "id": "SHoOlOT5jw0n"
      },
      "source": [
        "6. Write a program to count the number of digits in a number."
      ]
    },
    {
      "cell_type": "code",
      "execution_count": 23,
      "metadata": {
        "colab": {
          "base_uri": "https://localhost:8080/"
        },
        "id": "SLCreo5hb-XS",
        "outputId": "9e22e3e7-831f-453e-a80f-71a478ec6d09"
      },
      "outputs": [
        {
          "name": "stdout",
          "output_type": "stream",
          "text": [
            "Enter the number: 123\n",
            "3\n"
          ]
        }
      ],
      "source": [
        "num = int(input(\"Enter the number: \"))\n",
        "count = 0\n",
        "\n",
        "for i in range(1, num+1):\n",
        "  num = num//10\n",
        "  count+=1\n",
        "  if num == 0:\n",
        "    break\n",
        "\n",
        "print(count)\n"
      ]
    },
    {
      "cell_type": "markdown",
      "metadata": {
        "id": "zMgNasf8ndLA"
      },
      "source": [
        "7. Write a program to calculate the sum of digits of a number."
      ]
    },
    {
      "cell_type": "code",
      "execution_count": 24,
      "metadata": {
        "colab": {
          "base_uri": "https://localhost:8080/"
        },
        "id": "grzJxK0UmsIv",
        "outputId": "aa486662-ac51-4560-8665-9b7fddeccb96"
      },
      "outputs": [
        {
          "name": "stdout",
          "output_type": "stream",
          "text": [
            "Enter the number: 234\n",
            "9\n"
          ]
        }
      ],
      "source": [
        "num = int(input(\"Enter the number: \"))\n",
        "sum = 0\n",
        "\n",
        "for i in range(1, num+1):\n",
        "  digit = num%10\n",
        "  sum = sum+digit\n",
        "  num = num//10\n",
        "\n",
        "  if num == 0:\n",
        "    break\n",
        "\n",
        "print(sum)\n"
      ]
    },
    {
      "cell_type": "markdown",
      "metadata": {
        "id": "IHkqDf29pcbF"
      },
      "source": [
        "8. Write a program to find the first and last digit of a number."
      ]
    },
    {
      "cell_type": "code",
      "execution_count": 25,
      "metadata": {
        "colab": {
          "base_uri": "https://localhost:8080/"
        },
        "id": "98lGiVNhpdg_",
        "outputId": "4b843e6d-f2c4-4e16-b3ad-b7ca3a4eeaa6"
      },
      "outputs": [
        {
          "name": "stdout",
          "output_type": "stream",
          "text": [
            "enter the value: 12345\n",
            "1\n",
            "5\n"
          ]
        }
      ],
      "source": [
        "\n",
        "num = int(input(\"enter the value: \"))\n",
        "\n",
        "last_digit=num%10\n",
        "\n",
        "for i in range(1,num+1):\n",
        "  num = num//10\n",
        "\n",
        "  if num <10:\n",
        "    first_digit = num\n",
        "    break\n",
        "print(first_digit)\n",
        "print(last_digit)\n"
      ]
    },
    {
      "cell_type": "markdown",
      "metadata": {
        "id": "KCbezOtsp8SB"
      },
      "source": [
        "9. Write a program to find the sum of first and last digit of a number."
      ]
    },
    {
      "cell_type": "code",
      "execution_count": 26,
      "metadata": {
        "colab": {
          "base_uri": "https://localhost:8080/"
        },
        "id": "R2cU8m9Yp-1o",
        "outputId": "a64501ba-d7e8-41ec-9bf3-23e5b5312325"
      },
      "outputs": [
        {
          "name": "stdout",
          "output_type": "stream",
          "text": [
            "enter the value: 12345\n",
            "1\n",
            "5\n",
            "sum  6\n"
          ]
        }
      ],
      "source": [
        "num = int(input(\"enter the value: \"))\n",
        "\n",
        "last_digit=num%10\n",
        "sum = 0\n",
        "\n",
        "for i in range(1,num+1):\n",
        "  num = num//10\n",
        "\n",
        "  if num <10:\n",
        "    first_digit = num\n",
        "    break\n",
        "print(first_digit)\n",
        "print(last_digit)\n",
        "sum = first_digit+last_digit\n",
        "print(\"sum \",sum)"
      ]
    },
    {
      "cell_type": "markdown",
      "metadata": {
        "id": "GGFk3LLzp_e1"
      },
      "source": [
        "10.Write a program to enter a number and print its reverse."
      ]
    },
    {
      "cell_type": "code",
      "execution_count": 27,
      "metadata": {
        "colab": {
          "base_uri": "https://localhost:8080/"
        },
        "id": "qnVuw-ERqBU0",
        "outputId": "72578e48-b789-4409-8b7f-2d025e615f14"
      },
      "outputs": [
        {
          "name": "stdout",
          "output_type": "stream",
          "text": [
            "Enter the number: 1234\n",
            "4321"
          ]
        }
      ],
      "source": [
        "num = int(input(\"Enter the number: \"))\n",
        "\n",
        "for i in range(1, num+1):\n",
        "  digit = num%10\n",
        "  print(digit,end=\"\")\n",
        "  num = num//10\n",
        "\n",
        "  if num == 0:\n",
        "    break"
      ]
    },
    {
      "cell_type": "markdown",
      "metadata": {
        "id": "y83rtbiYqCI5"
      },
      "source": [
        "11.Write a program to find the power of a number using for loop."
      ]
    },
    {
      "cell_type": "code",
      "execution_count": 19,
      "metadata": {
        "colab": {
          "base_uri": "https://localhost:8080/"
        },
        "id": "YxpdM1waqD8G",
        "outputId": "f8e522f4-2421-4980-df64-aba4c26d228c"
      },
      "outputs": [
        {
          "name": "stdout",
          "output_type": "stream",
          "text": [
            "enter a number: 3\n",
            "enter the power: 3\n",
            "27\n"
          ]
        }
      ],
      "source": [
        "num = int(input(\"enter a number: \"))\n",
        "power = int(input(\"enter the power: \"))\n",
        "result = 1\n",
        "for i in range(1,power+1):\n",
        "  result = result*num\n",
        "print(result)\n",
        "\n",
        "\n",
        "\n"
      ]
    },
    {
      "cell_type": "markdown",
      "metadata": {
        "id": "sN84rtOeqFuo"
      },
      "source": [
        "12.Write a program to find all factors of a number."
      ]
    },
    {
      "cell_type": "code",
      "execution_count": null,
      "metadata": {
        "colab": {
          "base_uri": "https://localhost:8080/"
        },
        "id": "MJB4Ox8IqGW2",
        "outputId": "44058af9-0beb-4f3b-bf44-f82515ce74bd"
      },
      "outputs": [
        {
          "name": "stdout",
          "output_type": "stream",
          "text": [
            "enter the number: 4\n",
            "1\n",
            "2\n",
            "4\n"
          ]
        }
      ],
      "source": [
        "num = int(input(\"enter the number: \"))\n",
        "for i in range(1,num+1):\n",
        "  if(num%i==0):\n",
        "    print(i)"
      ]
    },
    {
      "cell_type": "code",
      "execution_count": null,
      "metadata": {},
      "outputs": [],
      "source": []
    }
  ],
  "metadata": {
    "colab": {
      "authorship_tag": "ABX9TyNJZ4h8t0Zx6Hc9lwBKD0TR",
      "include_colab_link": true,
      "provenance": []
    },
    "kernelspec": {
      "display_name": "Python 3",
      "name": "python3"
    },
    "language_info": {
      "codemirror_mode": {
        "name": "ipython",
        "version": 3
      },
      "file_extension": ".py",
      "mimetype": "text/x-python",
      "name": "python",
      "nbconvert_exporter": "python",
      "pygments_lexer": "ipython3",
      "version": "3.13.1"
    }
  },
  "nbformat": 4,
  "nbformat_minor": 0
}
