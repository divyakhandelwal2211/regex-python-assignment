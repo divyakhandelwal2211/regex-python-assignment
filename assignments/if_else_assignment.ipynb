{
  "cells": [
    {
      "cell_type": "markdown",
      "metadata": {
        "colab_type": "text",
        "id": "view-in-github"
      },
      "source": [
        "<a href=\"https://colab.research.google.com/github/divyakhandelwal2211/regex-python-assignment/blob/main/if_else_assignment.ipynb\" target=\"_parent\"><img src=\"https://colab.research.google.com/assets/colab-badge.svg\" alt=\"Open In Colab\"/></a>"
      ]
    },
    {
      "cell_type": "markdown",
      "metadata": {
        "id": "l2Qyie2392hd"
      },
      "source": [
        "##if-else assignment"
      ]
    },
    {
      "cell_type": "markdown",
      "metadata": {
        "id": "anEhXFt-4tmW"
      },
      "source": [
        "Q1 Write a program that takes an integer input from the user and checks whether the number is odd or\n",
        "even."
      ]
    },
    {
      "cell_type": "code",
      "execution_count": 1,
      "metadata": {
        "colab": {
          "base_uri": "https://localhost:8080/"
        },
        "id": "kdEcgxxo4xae",
        "outputId": "f77e5299-9f1e-45e5-82a1-aa732b4e7a62"
      },
      "outputs": [
        {
          "name": "stdout",
          "output_type": "stream",
          "text": [
            "number is odd\n"
          ]
        }
      ],
      "source": [
        "num = 5\n",
        "if num % 2 == 0:\n",
        "    print(\"number is even\")\n",
        "else:\n",
        "    print(\"number is odd\")"
      ]
    },
    {
      "cell_type": "markdown",
      "metadata": {
        "id": "82HtXObi5T0f"
      },
      "source": [
        "Q2 Write a program that takes three numbers as input and prints the largest of the three."
      ]
    },
    {
      "cell_type": "code",
      "execution_count": 2,
      "metadata": {
        "colab": {
          "base_uri": "https://localhost:8080/"
        },
        "id": "ax1rjGto5Cuz",
        "outputId": "e6dfb345-8fd1-4ad3-9a88-baa8b632a19d"
      },
      "outputs": [
        {
          "name": "stdout",
          "output_type": "stream",
          "text": [
            "num2 is greater\n"
          ]
        }
      ],
      "source": [
        "num1 = 23\n",
        "num2 = 54\n",
        "num3 = 29\n",
        "if num1 > num2 and num1 > num2:\n",
        "    print(\"num1 is greater\")\n",
        "elif num2 > num1 and num2 > num3:\n",
        "    print(\"num2 is greater\")\n",
        "else:\n",
        "    print(\"num3 is greater\")"
      ]
    },
    {
      "cell_type": "markdown",
      "metadata": {
        "id": "xefcKXJX5lCi"
      },
      "source": [
        "Q3 Write a program that takes a percentage (integer) as input and prints the corresponding grade based\n",
        "on the following criteria:      >= 90: Grade A\n",
        "                                >= 80: Grade B\n",
        "                                >= 70: Grade C\n",
        "                                >= 60: Grade D\n",
        "                                < 60: Grade F\n"
      ]
    },
    {
      "cell_type": "code",
      "execution_count": 1,
      "metadata": {
        "colab": {
          "base_uri": "https://localhost:8080/"
        },
        "id": "1B4lKQ9W5ZtK",
        "outputId": "b63af6a3-074c-46e8-f461-a1ceb02b1511"
      },
      "outputs": [
        {
          "name": "stdout",
          "output_type": "stream",
          "text": [
            "grade C\n"
          ]
        }
      ],
      "source": [
        "\n",
        "percentage = 75\n",
        "\n",
        "if percentage >= 90:\n",
        "    print(\"grade A\")\n",
        "elif percentage >= 80:\n",
        "    print(\"grade B\")\n",
        "elif percentage >= 70:\n",
        "    print(\"grade C\")\n",
        "elif percentage >= 60:\n",
        "    print(\"grade D\")\n",
        "elif percentage < 60:\n",
        "    print(\"grade f\")"
      ]
    },
    {
      "cell_type": "markdown",
      "metadata": {
        "id": "cHUbvwhU5ufv"
      },
      "source": [
        "Q4 Write a program that checks if a given letter is a vowel (a, e, i, o, u) or a consonant."
      ]
    },
    {
      "cell_type": "code",
      "execution_count": null,
      "metadata": {
        "colab": {
          "base_uri": "https://localhost:8080/"
        },
        "id": "lOTFrhGc5hLJ",
        "outputId": "456ae5b4-c2a9-4913-994d-314a9aacf28a"
      },
      "outputs": [
        {
          "name": "stdout",
          "output_type": "stream",
          "text": [
            "enter a letter: o\n",
            "vowel\n"
          ]
        }
      ],
      "source": [
        "letter = input(\"enter a letter: \")\n",
        "if (\n",
        "    letter == \"a\"\n",
        "    or letter == \"A\"\n",
        "    or letter == \"i\"\n",
        "    or letter == \"I\"\n",
        "    or letter == \"o\"\n",
        "    or letter == \"O\"\n",
        "    or letter == \"e\"\n",
        "    or letter == \"E\"\n",
        "    or letter == \"u\"\n",
        "    or letter == \"U\"\n",
        "):\n",
        "    print(\"vowel\")\n",
        "else:\n",
        "    print(\"consonent\")"
      ]
    },
    {
      "cell_type": "markdown",
      "metadata": {
        "id": "JnDIDb0t54_G"
      },
      "source": [
        "Q5 Write a basic calculator program that takes two numbers and an operator (+, -, *, /) as input and\n",
        "performs the specified operation. Print the result based on the operation."
      ]
    },
    {
      "cell_type": "code",
      "execution_count": null,
      "metadata": {
        "colab": {
          "base_uri": "https://localhost:8080/"
        },
        "id": "huC-mSp_5ye9",
        "outputId": "0d82ec0b-26ea-4f10-92ef-2352c456f15c"
      },
      "outputs": [
        {
          "name": "stdout",
          "output_type": "stream",
          "text": [
            "enter num1: 6\n",
            "enter num2: 7\n",
            "enter operator (+,-,/,*): *\n",
            "num1 * num2 =  42\n"
          ]
        }
      ],
      "source": [
        "num1 = int(input('enter num1: '))\n",
        "num2 = int (input('enter num2: '))\n",
        "operator = input('enter operator (+,-,/,*): ')\n",
        "\n",
        "if operator == \"+\":\n",
        "    print(\"num1 + num2 = \", num1 + num2)\n",
        "elif operator == \"-\":\n",
        "    print(\"num1 - num2 = \", num1 - num2)\n",
        "elif operator == \"/\":\n",
        "    if(num2>0):\n",
        "      print(\"num1 / num2 = \", num1 / num2)\n",
        "    else:\n",
        "      print(\"divided by 0\")\n",
        "elif operator == \"*\":\n",
        "    print(\"num1 * num2 = \", num1 * num2)\n",
        "else:\n",
        "    print(\"Not a valid operator\")\n"
      ]
    },
    {
      "cell_type": "markdown",
      "metadata": {
        "id": "waeFRMQu67mZ"
      },
      "source": [
        "Q6 Write a program that takes a number as input and checks whether it is positive, negative, or zero."
      ]
    },
    {
      "cell_type": "code",
      "execution_count": null,
      "metadata": {
        "colab": {
          "base_uri": "https://localhost:8080/"
        },
        "id": "JwfmQlUZ58oR",
        "outputId": "e71558ca-a390-48ef-a6fe-f7589701cd5e"
      },
      "outputs": [
        {
          "name": "stdout",
          "output_type": "stream",
          "text": [
            "enter number: -67\n",
            "negative number\n"
          ]
        }
      ],
      "source": [
        "num = int(input(\"enter number: \"))\n",
        "\n",
        "if(num >0):\n",
        "  print(\"positive number\")\n",
        "elif(num<0):\n",
        "  print(\"negative number\")\n",
        "else:\n",
        "  print(\"number is zero\")"
      ]
    },
    {
      "cell_type": "markdown",
      "metadata": {
        "id": "VhLj48OO8Qd6"
      },
      "source": [
        "Q7 Write a program that checks if a username and password entered by the user match the pre-set values\n",
        "username = \"admin\" and password = \"1234\". If both match, print \"Login Successful\", otherwise print\n",
        "\"Login Failed\"."
      ]
    },
    {
      "cell_type": "code",
      "execution_count": null,
      "metadata": {
        "colab": {
          "base_uri": "https://localhost:8080/"
        },
        "id": "LqLf7BjB8KNR",
        "outputId": "426f6235-e9f2-40ea-e0dd-a9aeb4e65159"
      },
      "outputs": [
        {
          "name": "stdout",
          "output_type": "stream",
          "text": [
            "Enter the username: admin\n",
            "Enter the password: 1234\n",
            "Login successful\n"
          ]
        }
      ],
      "source": [
        "username = input(\"Enter the username: \")\n",
        "password = input(\"Enter the password: \")\n",
        "\n",
        "if(username == \"admin\" and password == \"1234\"):\n",
        "  print(\"Login successful\")\n",
        "else:\n",
        "  print(\"Login failed\")"
      ]
    },
    {
      "cell_type": "markdown",
      "metadata": {
        "id": "19FqloHp9yAa"
      },
      "source": [
        "Q9 Write a program that takes three sides of a triangle as input and checks if those sides form a valid\n",
        "triangle. A triangle is valid if the sum of any two sides is greater than the third side.\n",
        "Check conditions like a + b > c, b + c > a, and a + c > b."
      ]
    },
    {
      "cell_type": "code",
      "execution_count": null,
      "metadata": {
        "colab": {
          "base_uri": "https://localhost:8080/"
        },
        "id": "OwLAzJ6u9WMZ",
        "outputId": "4692b395-1b08-442b-f447-e75e24793702"
      },
      "outputs": [
        {
          "name": "stdout",
          "output_type": "stream",
          "text": [
            "enter a: 2\n",
            "enter b: 2\n",
            "enter c: 3\n",
            "Valid triangle\n"
          ]
        }
      ],
      "source": [
        "a = int(input(\"enter a: \"))\n",
        "b = int(input(\"enter b: \"))\n",
        "c = int(input(\"enter c: \"))\n",
        "\n",
        "if(a+b>c and b+c>a and c+a>b):\n",
        "  print(\"Valid triangle\")\n",
        "else:\n",
        "  print(\"Invalid triangle\")"
      ]
    },
    {
      "cell_type": "code",
      "execution_count": null,
      "metadata": {
        "colab": {
          "base_uri": "https://localhost:8080/"
        },
        "id": "uYB__FID-_z6",
        "outputId": "a3edd568-519d-45ec-85ff-c1c008da26f5"
      },
      "outputs": [
        {
          "name": "stdout",
          "output_type": "stream",
          "text": [
            "enter weight: 52\n",
            "enter height: 5.2\n",
            "Underweight\n"
          ]
        }
      ],
      "source": [
        "weight = float(input(\"enter weight: \"))\n",
        "height = float(input(\"enter height: \"))\n",
        "\n",
        "bmi = weight/(height**2)\n",
        "\n",
        "if(bmi<18.5):\n",
        "  print(\"Underweight\")\n",
        "elif(18.5<=bmi<24.9):\n",
        "  print(\"Normal weight\")\n",
        "elif(25<=bmi<29.9):\n",
        "  print(\"overweight\")\n",
        "elif(bmi>=30):\n",
        "  print(\"obesity\")"
      ]
    },
    {
      "cell_type": "markdown",
      "metadata": {
        "id": "F5S4Z40sMSBh"
      },
      "source": [
        "Q10 Write a program that calculates the discount for a product based on its price:\n",
        "If price is greater than 1000, discount is 10%\n",
        "If price is between 500 and 1000, discount is 5%\n",
        "Otherwise, no discount\n",
        "Print the final price after applying the discount."
      ]
    },
    {
      "cell_type": "code",
      "execution_count": null,
      "metadata": {
        "colab": {
          "base_uri": "https://localhost:8080/"
        },
        "id": "5yKKJB3SMHV-",
        "outputId": "bd1d2a2e-ef58-4cb6-cf79-7d9220b02037"
      },
      "outputs": [
        {
          "name": "stdout",
          "output_type": "stream",
          "text": [
            "Enter the price of the product: 2000\n",
            "Final price after discount is: 1800.0\n"
          ]
        }
      ],
      "source": [
        "price = int(input(\"Enter the price of the product: \"))\n",
        "\n",
        "if (price > 1000):\n",
        "    discount = price * (10/100)\n",
        "elif (500<=price<=1000):\n",
        "    discount = price * (5/100)\n",
        "else:\n",
        "    discount = 0\n",
        "\n",
        "final_price = price - discount\n",
        "print(f\"Final price after discount is: {final_price}\")"
      ]
    },
    {
      "cell_type": "markdown",
      "metadata": {
        "id": "lFaTOhOUNdbG"
      },
      "source": [
        "Q11 Write a program that simulates a simple ATM. The user should be able to:\n",
        "Check balance\n",
        "Deposit money\n",
        "Withdraw money (ensure the balance doesn't go negative) Use an if-else structure to handle the user's choices."
      ]
    },
    {
      "cell_type": "code",
      "execution_count": null,
      "metadata": {
        "colab": {
          "base_uri": "https://localhost:8080/"
        },
        "id": "KV2pbu2wMjfO",
        "outputId": "79e9569f-36a1-4c3b-ae4b-552417cbf2a1"
      },
      "outputs": [
        {
          "name": "stdout",
          "output_type": "stream",
          "text": [
            "1.check balance\n",
            "2.deposit money\n",
            "3.withdraw money\n",
            "enter your choice(1-3): 2\n",
            "enter amount you want to deposit: 500\n",
            "500 added \n"
          ]
        }
      ],
      "source": [
        "balance = 2000\n",
        "\n",
        "print(\"1.check balance\")\n",
        "print(\"2.deposit money\")\n",
        "print(\"3.withdraw money\")\n",
        "\n",
        "choice = int(input(\"enter your choice(1-3): \"))\n",
        "\n",
        "if(choice==1):\n",
        "  print(f\"total balance is {balance}\")\n",
        "\n",
        "elif(choice==2):\n",
        "  deposit_amount= int(input(\"enter amount you want to deposit: \"))\n",
        "  if(deposit_amount>0):\n",
        "    balance+=deposit_amount\n",
        "    print(f\"{deposit_amount} added \")\n",
        "  else:\n",
        "    print(\"enter valid amount\")\n",
        "\n",
        "elif(choice==3):\n",
        "  withdraw_amount = int(input(\"enter amount you want to withdraw\"))\n",
        "  if(withdraw_amount <= balance and withdraw_amount >0 ):\n",
        "    print(f\"{withdraw_amount} withdrawed \")\n",
        "  elif(withdraw_amount <= 0):\n",
        "    print(\"enter valid amount\")\n",
        "  else:\n",
        "    print(\"insufficient balance\")\n",
        "\n",
        "else:\n",
        "  print(\"enter valid choice\")"
      ]
    },
    {
      "cell_type": "markdown",
      "metadata": {
        "id": "JGY034gKZgxn"
      },
      "source": [
        "Q12 Write a program that categorizes a given age into different groups:\n",
        "Infant (0-1 year)\n",
        "Toddler (2-4 years)\n",
        "Child (5-12 years)\n",
        "Teenager (13-19 years)\n",
        "Adult (20-59 years)\n",
        "Senior (60 years and above)"
      ]
    },
    {
      "cell_type": "code",
      "execution_count": null,
      "metadata": {
        "colab": {
          "base_uri": "https://localhost:8080/"
        },
        "id": "WYi39qcmY_lq",
        "outputId": "464e4d09-4a84-40d0-f8ae-ce7decfb9f7b"
      },
      "outputs": [
        {
          "name": "stdout",
          "output_type": "stream",
          "text": [
            "enter age: 22\n",
            "adult\n"
          ]
        }
      ],
      "source": [
        "age = int(input(\"enter age: \"))\n",
        "if(age>=60):\n",
        "  print(\"senior\")\n",
        "elif(age>=20):\n",
        "  print(\"adult\")\n",
        "elif(age>=13):\n",
        "  print(\"Teenager\")\n",
        "elif(age>=5):\n",
        "  print(\"child\")\n",
        "elif(age>=2):\n",
        "  print(\"toddler\")\n",
        "else:\n",
        "  print(\"infant\")"
      ]
    },
    {
      "cell_type": "markdown",
      "metadata": {
        "id": "ZGJOO_2SZj4x"
      },
      "source": [
        "Q13 Write a program that takes an integer (1-7) as input and prints the corresponding day of the week (1\n",
        "for Monday, 2 for Tuesday, etc.)."
      ]
    },
    {
      "cell_type": "code",
      "execution_count": null,
      "metadata": {
        "colab": {
          "base_uri": "https://localhost:8080/"
        },
        "id": "8tdKcHbOZtFK",
        "outputId": "c41b4b85-67c1-4e7f-ac74-0cc3133af9e9"
      },
      "outputs": [
        {
          "name": "stdout",
          "output_type": "stream",
          "text": [
            "thursday\n"
          ]
        }
      ],
      "source": [
        "num = 4\n",
        "if(num==1):\n",
        "  print(\"monday\")\n",
        "elif(num==2):\n",
        "  print(\"tuesday\")\n",
        "elif(num==3):\n",
        "  print(\"wednesday\")\n",
        "elif(num==4):\n",
        "  print(\"thursday\")\n",
        "elif(num==5):\n",
        "  print(\"friday\")\n",
        "elif(num==6):\n",
        "  print(\"saturday\")\n",
        "elif(num==7):\n",
        "  print(\"sunday\")\n",
        "else:\n",
        "  print(\"enter valid integer\")"
      ]
    },
    {
      "cell_type": "markdown",
      "metadata": {
        "id": "4l6uyuivDUXc"
      },
      "source": [
        "Q14 Write a program to check if a given year is a leap year. A leap year is divisible by 4 but not by 100\n",
        "unless it is also divisible by 400."
      ]
    },
    {
      "cell_type": "code",
      "execution_count": null,
      "metadata": {
        "colab": {
          "base_uri": "https://localhost:8080/"
        },
        "id": "D6FTS2eUeJht",
        "outputId": "e78e1fd2-8b50-485f-873d-085b29bbdae3"
      },
      "outputs": [
        {
          "name": "stdout",
          "output_type": "stream",
          "text": [
            "enter your number 2024\n",
            "2024 is a leap year.\n"
          ]
        }
      ],
      "source": [
        "year = int(input(\"enter your number \"))\n",
        "\n",
        "if (year % 4 == 0):\n",
        "    if (year % 100 != 0 or year % 400 == 0):\n",
        "        print(f\"{year} is a leap year.\")\n",
        "    else:\n",
        "        print(f\"{year} is not a leap year.\")\n",
        "else:\n",
        "    print(f\"{year} is not a leap year.\")"
      ]
    },
    {
      "cell_type": "markdown",
      "metadata": {
        "id": "FEPvj91aIWDt"
      },
      "source": [
        "Q15 Write a program that takes the name of a month as input and prints the number of days in that\n",
        "month. Consider leap years for February."
      ]
    },
    {
      "cell_type": "code",
      "execution_count": null,
      "metadata": {
        "colab": {
          "base_uri": "https://localhost:8080/"
        },
        "id": "wDYgjDmsFlKj",
        "outputId": "1adfd5a2-7c5a-4dc5-b61f-087531474661"
      },
      "outputs": [
        {
          "name": "stdout",
          "output_type": "stream",
          "text": [
            "enter a month: feburary\n",
            "29 days\n"
          ]
        }
      ],
      "source": [
        "month = input(\"enter a month: \")\n",
        "\n",
        "if(month == \"january\"):\n",
        "  print(\"31 days\")\n",
        "elif(month == 'feburary'):\n",
        "  print('29 days')\n",
        "elif(month == 'march'):\n",
        "  print('31 days')\n",
        "elif(month == 'april'):\n",
        "  print('30 days')\n",
        "elif(month == 'may'):\n",
        "  print('31 days')\n",
        "elif(month == 'june'):\n",
        "  print('30 days')\n",
        "elif(month == 'july'):\n",
        "  print('31 days')\n",
        "elif(month == 'august'):\n",
        "  print('31 days')\n",
        "elif(month == 'september'):\n",
        "  print('30 days')\n",
        "elif(month == 'october'):\n",
        "  print('31 days')\n",
        "elif(month == 'november'):\n",
        "  print('30 days')\n",
        "elif(month == 'december'):\n",
        "  print('31 days')\n",
        "else:\n",
        "  print('enter valid month name')"
      ]
    },
    {
      "cell_type": "code",
      "execution_count": null,
      "metadata": {
        "id": "3NKoC7iMJz2z"
      },
      "outputs": [],
      "source": []
    }
  ],
  "metadata": {
    "colab": {
      "authorship_tag": "ABX9TyOisW/APe94YCZBGNW3nFjq",
      "include_colab_link": true,
      "provenance": []
    },
    "kernelspec": {
      "display_name": "Python 3",
      "name": "python3"
    },
    "language_info": {
      "codemirror_mode": {
        "name": "ipython",
        "version": 3
      },
      "file_extension": ".py",
      "mimetype": "text/x-python",
      "name": "python",
      "nbconvert_exporter": "python",
      "pygments_lexer": "ipython3",
      "version": "3.13.1"
    }
  },
  "nbformat": 4,
  "nbformat_minor": 0
}
