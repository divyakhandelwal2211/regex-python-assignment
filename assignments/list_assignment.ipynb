{
 "cells": [
  {
   "cell_type": "markdown",
   "id": "1b910567",
   "metadata": {},
   "source": [
    "1. Write a Python program to find the maximum element in a list of numbers without\n",
    "max functions\n",
    "numbers = [10, 20, 4, 45, 99]\n",
    "The maximum element is: 99"
   ]
  },
  {
   "cell_type": "code",
   "execution_count": 4,
   "id": "23ebba39",
   "metadata": {},
   "outputs": [
    {
     "name": "stdout",
     "output_type": "stream",
     "text": [
      "99\n"
     ]
    }
   ],
   "source": [
    "numbers = [10,20,4,45,99]\n",
    "max = numbers[0]\n",
    "\n",
    "for i in range(1,len(numbers)):\n",
    "    if numbers[i]>max:\n",
    "        max=numbers[i]\n",
    "\n",
    "print(max)\n"
   ]
  },
  {
   "cell_type": "markdown",
   "id": "70b10874",
   "metadata": {},
   "source": [
    "2. Write a Python program to sum all the elements in a list of numbers.\n",
    "a. numbers = [10, 20, 30, 40]\n",
    "b. The sum of all elements is: 100"
   ]
  },
  {
   "cell_type": "code",
   "execution_count": 5,
   "id": "ba813fe4",
   "metadata": {},
   "outputs": [
    {
     "name": "stdout",
     "output_type": "stream",
     "text": [
      "100\n"
     ]
    }
   ],
   "source": [
    "numbers = [10, 20, 30, 40]\n",
    "sum =0\n",
    "\n",
    "for i in range(len(numbers)):\n",
    "    sum+=numbers[i]\n",
    "\n",
    "print(sum)"
   ]
  },
  {
   "cell_type": "markdown",
   "id": "54ae8442",
   "metadata": {},
   "source": [
    "3. Write a Python program to reverse a list without reverse or slicing operator\n",
    "a. numbers = [1, 2, 3, 4, 5]\n",
    "b. Reversed list: [5, 4, 3, 2, 1]"
   ]
  },
  {
   "cell_type": "code",
   "execution_count": 6,
   "id": "20f9cc38",
   "metadata": {},
   "outputs": [
    {
     "name": "stdout",
     "output_type": "stream",
     "text": [
      "[5, 4, 3, 2, 1]\n"
     ]
    }
   ],
   "source": [
    "numbers=[1,2,3,4,5]\n",
    "reversed = []\n",
    "\n",
    "for i in range(len(numbers)-1,-1,-1):\n",
    "    reversed.append(numbers[i])\n",
    "\n",
    "print(reversed)"
   ]
  },
  {
   "cell_type": "markdown",
   "id": "dfddeb86",
   "metadata": {},
   "source": [
    "4. Write a Python program to sort a list in ascending order without sort functions"
   ]
  },
  {
   "cell_type": "code",
   "execution_count": null,
   "id": "294d0cc7",
   "metadata": {},
   "outputs": [
    {
     "name": "stdout",
     "output_type": "stream",
     "text": [
      "[4, 4, 10, 10, 10]\n"
     ]
    }
   ],
   "source": [
    "list1= [10,20,4,45,99]\n",
    "sorted_list = []\n",
    "value = list1[0] \n",
    "\n",
    "for i in range(len(list1)):\n",
    "    for j in range(i+1,len(list1)):\n",
    "        if list1[j]< value:\n",
    "            value = list1[j]\n",
    "        \n",
    "    sorted_list.append(value)\n",
    "    value=list1[0]\n",
    "\n",
    "print(sorted_list)"
   ]
  },
  {
   "cell_type": "markdown",
   "id": "98aa332c",
   "metadata": {},
   "source": [
    "5. Write a Python program to remove duplicates from a list while maintaining the order\n",
    "of elements.\n",
    "a. numbers = [1, 2, 2, 3, 4, 4, 5]\n",
    "b. List after removing duplicates: [1, 2, 3, 4, 5]"
   ]
  },
  {
   "cell_type": "code",
   "execution_count": 20,
   "id": "1e13f22c",
   "metadata": {},
   "outputs": [
    {
     "name": "stdout",
     "output_type": "stream",
     "text": [
      "[1, 2, 3, 4, 5]\n"
     ]
    }
   ],
   "source": [
    "numbers = [1, 2, 2, 3, 4, 4, 5]\n",
    "not_duplicate = []\n",
    "\n",
    "for i in range(len(numbers)):\n",
    "    if numbers[i] not in not_duplicate:\n",
    "        not_duplicate.append(numbers[i])\n",
    "\n",
    "print(not_duplicate)\n"
   ]
  },
  {
   "cell_type": "code",
   "execution_count": 21,
   "id": "bd1caf5d",
   "metadata": {},
   "outputs": [
    {
     "name": "stdout",
     "output_type": "stream",
     "text": [
      "[(1, 5), (2, 4), (3, 3)]\n"
     ]
    }
   ],
   "source": [
    "numbers = [1,2,3,4,3,5,6]\n",
    "target_sum = 6\n",
    "list = []\n",
    "for i in range(len(numbers)):\n",
    "    for j in range(i+1,len(numbers)):\n",
    "        if(numbers[i]+numbers[j]==6):\n",
    "            list.append((numbers[i],numbers[j]))\n",
    "\n",
    "print(list)"
   ]
  },
  {
   "cell_type": "markdown",
   "id": "7f25f856",
   "metadata": {},
   "source": [
    "8. Write a Python program to find the sum of the elements in a list, excluding the largest\n",
    "and smallest element. Don’t use max or min functions\n",
    "a. numbers = [1, 2, 3, 4, 5]\n",
    "b. Sum excluding the largest and smallest element: 9"
   ]
  },
  {
   "cell_type": "code",
   "execution_count": 27,
   "id": "9e94db52",
   "metadata": {},
   "outputs": [
    {
     "name": "stdout",
     "output_type": "stream",
     "text": [
      "min=> 1\n",
      "max=> 5\n",
      "total=> 9\n"
     ]
    }
   ],
   "source": [
    "numbers = [1, 2, 3, 4, 5]\n",
    "max = numbers[0]\n",
    "min = numbers[0]\n",
    "for i in range(1,len(numbers)):\n",
    "    if numbers[i]<min:\n",
    "        min = numbers[i]\n",
    "    if numbers[i]>max:\n",
    "        max = numbers[i]\n",
    "\n",
    "total = 0\n",
    "for i in range(len(numbers)):\n",
    "    total+=numbers[i]\n",
    "print(\"min=>\",min)\n",
    "print(\"max=>\",max)\n",
    "total = total-min-max\n",
    "\n",
    "print(\"total=>\",total)"
   ]
  },
  {
   "cell_type": "markdown",
   "id": "1fdab899",
   "metadata": {},
   "source": [
    "9. Write a Python program to check if a list is a palindrome (reads the same backward\n",
    "as forward) using two pointer approach\n",
    "a. numbers = [1, 2, 3, 2, 1]\n",
    "b. True\n"
   ]
  },
  {
   "cell_type": "code",
   "execution_count": 39,
   "id": "2f0c6772",
   "metadata": {},
   "outputs": [
    {
     "name": "stdout",
     "output_type": "stream",
     "text": [
      "True\n"
     ]
    }
   ],
   "source": [
    "numbers = [1, 2, 3, 2, 1]\n",
    "a=0\n",
    "for i in range(len(numbers)):\n",
    "    if(numbers[i]==numbers[len(numbers)-1-i]):\n",
    "        a=1\n",
    "    else:\n",
    "        a=0\n",
    "if a==1:\n",
    "    print(\"True\")\n",
    "else:\n",
    "    print(\"False\")"
   ]
  },
  {
   "cell_type": "code",
   "execution_count": null,
   "id": "723b6237",
   "metadata": {},
   "outputs": [],
   "source": []
  },
  {
   "cell_type": "code",
   "execution_count": null,
   "id": "1baa4c2d",
   "metadata": {},
   "outputs": [],
   "source": []
  }
 ],
 "metadata": {
  "kernelspec": {
   "display_name": "Python 3",
   "language": "python",
   "name": "python3"
  },
  "language_info": {
   "codemirror_mode": {
    "name": "ipython",
    "version": 3
   },
   "file_extension": ".py",
   "mimetype": "text/x-python",
   "name": "python",
   "nbconvert_exporter": "python",
   "pygments_lexer": "ipython3",
   "version": "3.13.1"
  }
 },
 "nbformat": 4,
 "nbformat_minor": 5
}
