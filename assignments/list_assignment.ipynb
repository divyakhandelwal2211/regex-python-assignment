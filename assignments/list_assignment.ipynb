{
 "cells": [
  {
   "cell_type": "markdown",
   "id": "1b910567",
   "metadata": {},
   "source": [
    "1. Write a Python program to find the maximum element in a list of numbers without\n",
    "max functions\n",
    "numbers = [10, 20, 4, 45, 99]\n",
    "The maximum element is: 99"
   ]
  },
  {
   "cell_type": "code",
   "execution_count": 7,
   "id": "23ebba39",
   "metadata": {},
   "outputs": [
    {
     "name": "stdout",
     "output_type": "stream",
     "text": [
      "99\n"
     ]
    }
   ],
   "source": [
    "numbers = [10,20,4,45,99]\n",
    "max = numbers[0]\n",
    "\n",
    "for i in range(1,len(numbers)):\n",
    "    if numbers[i]>max:\n",
    "        max=numbers[i]\n",
    "\n",
    "print(max)\n"
   ]
  },
  {
   "cell_type": "markdown",
   "id": "70b10874",
   "metadata": {},
   "source": [
    "2. Write a Python program to sum all the elements in a list of numbers.\n",
    "a. numbers = [10, 20, 30, 40]\n",
    "b. The sum of all elements is: 100"
   ]
  },
  {
   "cell_type": "code",
   "execution_count": 5,
   "id": "ba813fe4",
   "metadata": {},
   "outputs": [
    {
     "name": "stdout",
     "output_type": "stream",
     "text": [
      "100\n"
     ]
    }
   ],
   "source": [
    "numbers = [10, 20, 30, 40]\n",
    "sum =0\n",
    "\n",
    "for i in range(len(numbers)):\n",
    "    sum+=numbers[i]\n",
    "\n",
    "print(sum)"
   ]
  },
  {
   "cell_type": "markdown",
   "id": "54ae8442",
   "metadata": {},
   "source": [
    "3. Write a Python program to reverse a list without reverse or slicing operator\n",
    "a. numbers = [1, 2, 3, 4, 5]\n",
    "b. Reversed list: [5, 4, 3, 2, 1]"
   ]
  },
  {
   "cell_type": "code",
   "execution_count": 6,
   "id": "20f9cc38",
   "metadata": {},
   "outputs": [
    {
     "name": "stdout",
     "output_type": "stream",
     "text": [
      "[5, 4, 3, 2, 1]\n"
     ]
    }
   ],
   "source": [
    "numbers=[1,2,3,4,5]\n",
    "reversed = []\n",
    "\n",
    "for i in range(len(numbers)-1,-1,-1):\n",
    "    reversed.append(numbers[i])\n",
    "\n",
    "print(reversed)"
   ]
  },
  {
   "cell_type": "markdown",
   "id": "dfddeb86",
   "metadata": {},
   "source": [
    "4. Write a Python program to sort a list in ascending order without sort functions"
   ]
  },
  {
   "cell_type": "code",
   "execution_count": null,
   "id": "6305f9e1",
   "metadata": {},
   "outputs": [
    {
     "name": "stdout",
     "output_type": "stream",
     "text": [
      "[4, 10, 20, 45, 99]\n"
     ]
    }
   ],
   "source": [
    "list1= [10,20,4,45,99]\n",
    "sorted_list=[]\n",
    "while list1:\n",
    "    min=list1[0]\n",
    "    for i in range(1,len(list1)):\n",
    "        \n",
    "        if list1[i]<min:\n",
    "            min=list1[i]\n",
    "    sorted_list.append(min)\n",
    "    list1.remove(min)\n",
    "\n",
    "print(sorted_list)\n",
    "\n"
   ]
  },
  {
   "cell_type": "markdown",
   "id": "98aa332c",
   "metadata": {},
   "source": [
    "5. Write a Python program to remove duplicates from a list while maintaining the order\n",
    "of elements.\n",
    "a. numbers = [1, 2, 2, 3, 4, 4, 5]\n",
    "b. List after removing duplicates: [1, 2, 3, 4, 5]"
   ]
  },
  {
   "cell_type": "code",
   "execution_count": 20,
   "id": "1e13f22c",
   "metadata": {},
   "outputs": [
    {
     "name": "stdout",
     "output_type": "stream",
     "text": [
      "[1, 2, 3, 4, 5]\n"
     ]
    }
   ],
   "source": [
    "numbers = [1, 2, 2, 3, 4, 4, 5]\n",
    "not_duplicate = []\n",
    "\n",
    "for i in range(len(numbers)):\n",
    "    if numbers[i] not in not_duplicate:\n",
    "        not_duplicate.append(numbers[i])\n",
    "\n",
    "print(not_duplicate)\n"
   ]
  },
  {
   "cell_type": "markdown",
   "id": "0323ee3e",
   "metadata": {},
   "source": [
    "6. Write a Python program to find all pairs of numbers in a list that add up to a specific\n",
    "target sum.\n",
    "a. numbers = [1, 2, 3, 4, 3, 5, 6] target_sum = 6\n",
    "b. Pairs that add up to 6: [(3, 3), (2, 4), (1, 5)]"
   ]
  },
  {
   "cell_type": "code",
   "execution_count": 21,
   "id": "bd1caf5d",
   "metadata": {},
   "outputs": [
    {
     "name": "stdout",
     "output_type": "stream",
     "text": [
      "[(1, 5), (2, 4), (3, 3)]\n"
     ]
    }
   ],
   "source": [
    "numbers = [1,2,3,4,3,5,6]\n",
    "target_sum = 6\n",
    "list = []\n",
    "for i in range(len(numbers)):\n",
    "    for j in range(i+1,len(numbers)):\n",
    "        if(numbers[i]+numbers[j]==6):\n",
    "            list.append((numbers[i],numbers[j]))\n",
    "\n",
    "print(list)"
   ]
  },
  {
   "cell_type": "markdown",
   "id": "b191a7bd",
   "metadata": {},
   "source": [
    "7. Write a Python program to flatten a nested list (list within lists) into a single list.\n",
    "a. nested_list = [1, [2, 3], [4, [5, 6], 7], 8]\n",
    "b. Flattened list: [1, 2, 3, 4, 5, 6, 7, 8]"
   ]
  },
  {
   "cell_type": "code",
   "execution_count": 48,
   "id": "6b8e0466",
   "metadata": {},
   "outputs": [
    {
     "name": "stdout",
     "output_type": "stream",
     "text": [
      "[1, 2, 3, 4, 5, 6, 7, 8]\n"
     ]
    }
   ],
   "source": [
    "\n",
    "def flatten_list(nested_list):\n",
    "    result=[]\n",
    "    for i in nested_list:\n",
    "        if isinstance(i,list):\n",
    "            result.extend(flatten_list(i))\n",
    "        else:\n",
    "            result.append(i)\n",
    "    return result\n",
    "\n",
    "nested_list = [1, [2, 3], [4, [5, 6], 7], 8]\n",
    "flattened=flatten_list(nested_list)\n",
    "print(flattened)"
   ]
  },
  {
   "cell_type": "markdown",
   "id": "7f25f856",
   "metadata": {},
   "source": [
    "8. Write a Python program to find the sum of the elements in a list, excluding the largest\n",
    "and smallest element. Don’t use max or min functions\n",
    "a. numbers = [1, 2, 3, 4, 5]\n",
    "b. Sum excluding the largest and smallest element: 9"
   ]
  },
  {
   "cell_type": "code",
   "execution_count": 27,
   "id": "9e94db52",
   "metadata": {},
   "outputs": [
    {
     "name": "stdout",
     "output_type": "stream",
     "text": [
      "min=> 1\n",
      "max=> 5\n",
      "total=> 9\n"
     ]
    }
   ],
   "source": [
    "numbers = [1, 2, 3, 4, 5]\n",
    "max = numbers[0]\n",
    "min = numbers[0]\n",
    "for i in range(1,len(numbers)):\n",
    "    if numbers[i]<min:\n",
    "        min = numbers[i]\n",
    "    if numbers[i]>max:\n",
    "        max = numbers[i]\n",
    "\n",
    "total = 0\n",
    "for i in range(len(numbers)):\n",
    "    total+=numbers[i]\n",
    "print(\"min=>\",min)\n",
    "print(\"max=>\",max)\n",
    "total = total-min-max\n",
    "\n",
    "print(\"total=>\",total)"
   ]
  },
  {
   "cell_type": "markdown",
   "id": "1fdab899",
   "metadata": {},
   "source": [
    "9. Write a Python program to check if a list is a palindrome (reads the same backward\n",
    "as forward) using two pointer approach\n",
    "a. numbers = [1, 2, 3, 2, 1]\n",
    "b. True\n"
   ]
  },
  {
   "cell_type": "code",
   "execution_count": 39,
   "id": "2f0c6772",
   "metadata": {},
   "outputs": [
    {
     "name": "stdout",
     "output_type": "stream",
     "text": [
      "True\n"
     ]
    }
   ],
   "source": [
    "numbers = [1, 2, 3, 2, 1]\n",
    "a=0\n",
    "for i in range(len(numbers)):\n",
    "    if(numbers[i]==numbers[len(numbers)-1-i]):\n",
    "        a=1\n",
    "    else:\n",
    "        a=0\n",
    "if a==1:\n",
    "    print(\"True\")\n",
    "else:\n",
    "    print(\"False\")"
   ]
  },
  {
   "cell_type": "markdown",
   "id": "6cd40827",
   "metadata": {},
   "source": [
    "10. Write a function to remove duplicate elements from a list.\n",
    "a. numbers = [1, 2, 3, 2, 4, 5, 1, 6]\n",
    "b. [1, 2, 3, 4, 5, 6]"
   ]
  },
  {
   "cell_type": "code",
   "execution_count": 10,
   "id": "723b6237",
   "metadata": {},
   "outputs": [
    {
     "name": "stdout",
     "output_type": "stream",
     "text": [
      "[1, 2, 3, 4, 5, 6]\n"
     ]
    }
   ],
   "source": [
    "numbers = [1, 2, 3, 2, 4, 5, 1, 6]\n",
    "\n",
    "for i in range(len(numbers)):\n",
    "    for j in range(i+1,len(numbers)):\n",
    "        if(numbers[i]==numbers[j]):\n",
    "            numbers.pop(j)\n",
    "            break\n",
    "\n",
    "print(numbers)"
   ]
  },
  {
   "cell_type": "markdown",
   "id": "607adacc",
   "metadata": {},
   "source": [
    "11.Find Common Elements in Two Lists\n",
    "a. list1 = [1, 2, 3, 4, 5]\n",
    "b. list2 = [3, 4, 5, 6, 7]\n",
    "c. Result: [3, 4, 5]"
   ]
  },
  {
   "cell_type": "code",
   "execution_count": 11,
   "id": "1baa4c2d",
   "metadata": {},
   "outputs": [
    {
     "name": "stdout",
     "output_type": "stream",
     "text": [
      "[3, 4, 5]\n"
     ]
    }
   ],
   "source": [
    "list1 = [1, 2, 3, 4, 5]\n",
    "list2 = [3, 4, 5, 6, 7]\n",
    "result = []\n",
    "for i in list1:\n",
    "    if i in list2:\n",
    "        result.append(i)\n",
    "print(result)\n",
    "\n"
   ]
  },
  {
   "cell_type": "markdown",
   "id": "4775e5b3",
   "metadata": {},
   "source": [
    "12. Find the Longest Word in a List\n",
    "a. words = [\"apple\", \"banana\", \"strawberry\", \"kiwi\"]\n",
    "b. Strawberry"
   ]
  },
  {
   "cell_type": "code",
   "execution_count": 12,
   "id": "116c9783",
   "metadata": {},
   "outputs": [
    {
     "name": "stdout",
     "output_type": "stream",
     "text": [
      "strawberry\n"
     ]
    }
   ],
   "source": [
    "words = [\"apple\", \"banana\", \"strawberry\", \"kiwi\"]\n",
    "\n",
    "longest = ''\n",
    "for i in words:\n",
    "    if len(i)>len(longest):\n",
    "        longest=i\n",
    "\n",
    "print(longest)\n",
    "    "
   ]
  },
  {
   "cell_type": "markdown",
   "id": "4d0a4e46",
   "metadata": {},
   "source": [
    "14. Find Missing Number in a List\n",
    "You are given a list of n-1 numbers in the range 1 to n. One number is missing\n",
    "from the sequence. Find the missing number.\n",
    "a. numbers = [1, 2, 4, 5, 6]\n",
    "b. 3"
   ]
  },
  {
   "cell_type": "code",
   "execution_count": 6,
   "id": "90f21b17",
   "metadata": {},
   "outputs": [
    {
     "name": "stdout",
     "output_type": "stream",
     "text": [
      "3\n"
     ]
    }
   ],
   "source": [
    "numbers=[1,2,4,5,6]\n",
    "\n",
    "for i in range(1,len(numbers)+1):\n",
    "    if i not in numbers:\n",
    "        print(i)\n",
    "        break\n"
   ]
  },
  {
   "cell_type": "markdown",
   "id": "46ccb951",
   "metadata": {},
   "source": [
    "15. Find the First Non-Repeating Element\n",
    "Given a list of integers, find the first element that appears only once.\n",
    "a. numbers = [4, 5, 1, 2, 0, 4, 5, 2]\n",
    "b. Expected Output: 1"
   ]
  },
  {
   "cell_type": "code",
   "execution_count": 4,
   "id": "efc2f379",
   "metadata": {},
   "outputs": [
    {
     "name": "stdout",
     "output_type": "stream",
     "text": [
      "1\n"
     ]
    }
   ],
   "source": [
    "numbers = [4, 5, 1, 2, 0, 4, 5, 2]\n",
    "\n",
    "for num in numbers:\n",
    "    if numbers.count(num) == 1:\n",
    "            print(num)\n",
    "            break\n",
    "            \n",
    "\n"
   ]
  },
  {
   "cell_type": "markdown",
   "id": "fd715691",
   "metadata": {},
   "source": [
    "16. Move All Zeros to the End\n",
    "Given a list of integers, move all zeros to the end while maintaining the relative order\n",
    "of non-zero elements. Don’t use any inbuilt functions\n",
    "a. numbers = [0, 1, 0, 3, 12]\n",
    "b. [1, 3, 12, 0, 0]"
   ]
  },
  {
   "cell_type": "code",
   "execution_count": 8,
   "id": "d0f415bb",
   "metadata": {},
   "outputs": [
    {
     "name": "stdout",
     "output_type": "stream",
     "text": [
      "[1, 3, 12, 0, 0]\n"
     ]
    }
   ],
   "source": [
    "numbers = [0, 1, 0, 3, 12]\n",
    "\n",
    "result=[]\n",
    "count=0\n",
    "for i in numbers:\n",
    "    if i==0:\n",
    "        count+=1\n",
    "    else:\n",
    "        result.append(i)\n",
    "\n",
    "result+=[0]*count    \n",
    "print(result)\n",
    "    \n",
    "\n"
   ]
  },
  {
   "cell_type": "markdown",
   "id": "332eaaaa",
   "metadata": {},
   "source": [
    "17. Find Elements Greater Than Their Left Neighbor\n",
    "a. numbers = [1, 3, 2, 6, 5, 8, 7]\n",
    "b. [3, 6, 8]"
   ]
  },
  {
   "cell_type": "code",
   "execution_count": 11,
   "id": "936c1291",
   "metadata": {},
   "outputs": [
    {
     "name": "stdout",
     "output_type": "stream",
     "text": [
      "[3, 6, 8]\n"
     ]
    }
   ],
   "source": [
    "numbers = [1, 3, 2, 6, 5, 8, 7]\n",
    "\n",
    "new_list=[]\n",
    "for i in range(len(numbers)-1):\n",
    "    if numbers[i]>numbers[i+1]:\n",
    "        new_list.append(numbers[i])\n",
    "print(new_list)\n"
   ]
  },
  {
   "cell_type": "markdown",
   "id": "e0f99591",
   "metadata": {},
   "source": [
    "18. Find Triplets That Sum to Zero\n",
    "Given a list of numbers, find all unique triplets (a, b, c) such that a + b + c = 0.\n",
    "a. numbers = [-1, 0, 1, 2, -1, -4]\n",
    "b. Expected Output: [(-1, -1, 2), (-1, 0, 1)]"
   ]
  },
  {
   "cell_type": "code",
   "execution_count": 21,
   "id": "9429ec51",
   "metadata": {},
   "outputs": [
    {
     "name": "stdout",
     "output_type": "stream",
     "text": [
      "[(-1, 0, 1), (-1, -1, 2)]\n"
     ]
    }
   ],
   "source": [
    "numbers = [-1, 0, 1, 2, -1, -4]\n",
    "\n",
    "target_sum=0\n",
    "new=set()\n",
    "for i in range(len(numbers)):\n",
    "    for j in range(i+1,len(numbers)):\n",
    "        for k in range(j+1,len(numbers)):\n",
    "            if(numbers[i]+numbers[j]+numbers[k]==target_sum):\n",
    "                new.add(tuple(sorted((numbers[i],numbers[j],numbers[k]))))\n",
    "\n",
    "print(list(new))\n"
   ]
  },
  {
   "cell_type": "code",
   "execution_count": null,
   "id": "6cc1bbb6",
   "metadata": {},
   "outputs": [],
   "source": []
  }
 ],
 "metadata": {
  "kernelspec": {
   "display_name": "Python 3",
   "language": "python",
   "name": "python3"
  },
  "language_info": {
   "codemirror_mode": {
    "name": "ipython",
    "version": 3
   },
   "file_extension": ".py",
   "mimetype": "text/x-python",
   "name": "python",
   "nbconvert_exporter": "python",
   "pygments_lexer": "ipython3",
   "version": "3.13.1"
  }
 },
 "nbformat": 4,
 "nbformat_minor": 5
}
