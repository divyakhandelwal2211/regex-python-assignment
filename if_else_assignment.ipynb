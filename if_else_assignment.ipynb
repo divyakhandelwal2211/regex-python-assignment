{
  "nbformat": 4,
  "nbformat_minor": 0,
  "metadata": {
    "colab": {
      "provenance": []
    },
    "kernelspec": {
      "name": "python3",
      "display_name": "Python 3"
    },
    "language_info": {
      "name": "python"
    }
  },
  "cells": [
    {
      "cell_type": "markdown",
      "source": [
        "##if-else assignment"
      ],
      "metadata": {
        "id": "l2Qyie2392hd"
      }
    },
    {
      "cell_type": "markdown",
      "source": [
        "Q1 Write a program that takes an integer input from the user and checks whether the number is odd or\n",
        "even."
      ],
      "metadata": {
        "id": "anEhXFt-4tmW"
      }
    },
    {
      "cell_type": "code",
      "source": [
        "num = 5\n",
        "if num % 2 == 0:\n",
        "    print(\"number is even\")\n",
        "else:\n",
        "    print(\"number is odd\")"
      ],
      "metadata": {
        "colab": {
          "base_uri": "https://localhost:8080/"
        },
        "id": "kdEcgxxo4xae",
        "outputId": "f77e5299-9f1e-45e5-82a1-aa732b4e7a62"
      },
      "execution_count": 1,
      "outputs": [
        {
          "output_type": "stream",
          "name": "stdout",
          "text": [
            "number is odd\n"
          ]
        }
      ]
    },
    {
      "cell_type": "markdown",
      "source": [
        "Q2 Write a program that takes three numbers as input and prints the largest of the three."
      ],
      "metadata": {
        "id": "82HtXObi5T0f"
      }
    },
    {
      "cell_type": "code",
      "source": [
        "num1 = 23\n",
        "num2 = 54\n",
        "num3 = 29\n",
        "if num1 > num2 and num1 > num2:\n",
        "    print(\"num1 is greater\")\n",
        "elif num2 > num1 and num2 > num3:\n",
        "    print(\"num2 is greater\")\n",
        "else:\n",
        "    print(\"num3 is greater\")"
      ],
      "metadata": {
        "colab": {
          "base_uri": "https://localhost:8080/"
        },
        "id": "ax1rjGto5Cuz",
        "outputId": "e6dfb345-8fd1-4ad3-9a88-baa8b632a19d"
      },
      "execution_count": 2,
      "outputs": [
        {
          "output_type": "stream",
          "name": "stdout",
          "text": [
            "num2 is greater\n"
          ]
        }
      ]
    },
    {
      "cell_type": "markdown",
      "source": [
        "Q3 Write a program that takes a percentage (integer) as input and prints the corresponding grade based\n",
        "on the following criteria:      >= 90: Grade A\n",
        "                                >= 80: Grade B\n",
        "                                >= 70: Grade C\n",
        "                                >= 60: Grade D\n",
        "                                < 60: Grade F\n"
      ],
      "metadata": {
        "id": "xefcKXJX5lCi"
      }
    },
    {
      "cell_type": "code",
      "source": [
        "\n",
        "percentage = int(input(\"enter your percentage: \"))\n",
        "\n",
        "if percentage >= 90:\n",
        "    print(\"grade A\")\n",
        "elif percentage >= 80:\n",
        "    print(\"grade B\")\n",
        "elif percentage >= 70:\n",
        "    print(\"grade C\")\n",
        "elif percentage >= 60:\n",
        "    print(\"grade D\")\n",
        "elif percentage < 60:\n",
        "    print(\"grade f\")"
      ],
      "metadata": {
        "colab": {
          "base_uri": "https://localhost:8080/"
        },
        "id": "1B4lKQ9W5ZtK",
        "outputId": "b63af6a3-074c-46e8-f461-a1ceb02b1511"
      },
      "execution_count": 48,
      "outputs": [
        {
          "output_type": "stream",
          "name": "stdout",
          "text": [
            "enter your percentage: 78\n",
            "grade C\n"
          ]
        }
      ]
    },
    {
      "cell_type": "markdown",
      "source": [
        "Q4 Write a program that checks if a given letter is a vowel (a, e, i, o, u) or a consonant."
      ],
      "metadata": {
        "id": "cHUbvwhU5ufv"
      }
    },
    {
      "cell_type": "code",
      "source": [
        "letter = input(\"enter a letter: \")\n",
        "if (\n",
        "    letter == \"a\"\n",
        "    or letter == \"A\"\n",
        "    or letter == \"i\"\n",
        "    or letter == \"I\"\n",
        "    or letter == \"o\"\n",
        "    or letter == \"O\"\n",
        "    or letter == \"e\"\n",
        "    or letter == \"E\"\n",
        "    or letter == \"u\"\n",
        "    or letter == \"U\"\n",
        "):\n",
        "    print(\"vowel\")\n",
        "else:\n",
        "    print(\"consonent\")"
      ],
      "metadata": {
        "colab": {
          "base_uri": "https://localhost:8080/"
        },
        "id": "lOTFrhGc5hLJ",
        "outputId": "456ae5b4-c2a9-4913-994d-314a9aacf28a"
      },
      "execution_count": 47,
      "outputs": [
        {
          "output_type": "stream",
          "name": "stdout",
          "text": [
            "enter a letter: o\n",
            "vowel\n"
          ]
        }
      ]
    },
    {
      "cell_type": "markdown",
      "source": [
        "Q5 Write a basic calculator program that takes two numbers and an operator (+, -, *, /) as input and\n",
        "performs the specified operation. Print the result based on the operation."
      ],
      "metadata": {
        "id": "JnDIDb0t54_G"
      }
    },
    {
      "cell_type": "code",
      "source": [
        "num1 = int(input('enter num1: '))\n",
        "num2 = int (input('enter num2: '))\n",
        "operator = input('enter operator (+,-,/,*): ')\n",
        "\n",
        "if operator == \"+\":\n",
        "    print(\"num1 + num2 = \", num1 + num2)\n",
        "elif operator == \"-\":\n",
        "    print(\"num1 - num2 = \", num1 - num2)\n",
        "elif operator == \"/\":\n",
        "    if(num2>0):\n",
        "      print(\"num1 / num2 = \", num1 / num2)\n",
        "    else:\n",
        "      print(\"divided by 0\")\n",
        "elif operator == \"*\":\n",
        "    print(\"num1 * num2 = \", num1 * num2)\n",
        "else:\n",
        "    print(\"Not a valid operator\")\n"
      ],
      "metadata": {
        "colab": {
          "base_uri": "https://localhost:8080/"
        },
        "id": "huC-mSp_5ye9",
        "outputId": "0d82ec0b-26ea-4f10-92ef-2352c456f15c"
      },
      "execution_count": 46,
      "outputs": [
        {
          "output_type": "stream",
          "name": "stdout",
          "text": [
            "enter num1: 6\n",
            "enter num2: 7\n",
            "enter operator (+,-,/,*): *\n",
            "num1 * num2 =  42\n"
          ]
        }
      ]
    },
    {
      "cell_type": "markdown",
      "source": [
        "Q6 Write a program that takes a number as input and checks whether it is positive, negative, or zero."
      ],
      "metadata": {
        "id": "waeFRMQu67mZ"
      }
    },
    {
      "cell_type": "code",
      "source": [
        "num = int(input(\"enter number: \"))\n",
        "\n",
        "if(num >0):\n",
        "  print(\"positive number\")\n",
        "elif(num<0):\n",
        "  print(\"negative number\")\n",
        "else:\n",
        "  print(\"number is zero\")"
      ],
      "metadata": {
        "colab": {
          "base_uri": "https://localhost:8080/"
        },
        "id": "JwfmQlUZ58oR",
        "outputId": "e71558ca-a390-48ef-a6fe-f7589701cd5e"
      },
      "execution_count": 45,
      "outputs": [
        {
          "output_type": "stream",
          "name": "stdout",
          "text": [
            "enter number: -67\n",
            "negative number\n"
          ]
        }
      ]
    },
    {
      "cell_type": "markdown",
      "source": [
        "Q7 Write a program that checks if a username and password entered by the user match the pre-set values\n",
        "username = \"admin\" and password = \"1234\". If both match, print \"Login Successful\", otherwise print\n",
        "\"Login Failed\"."
      ],
      "metadata": {
        "id": "VhLj48OO8Qd6"
      }
    },
    {
      "cell_type": "code",
      "source": [
        "username = input(\"Enter the username: \")\n",
        "password = input(\"Enter the password: \")\n",
        "\n",
        "if(username == \"admin\" and password == \"1234\"):\n",
        "  print(\"Login successful\")\n",
        "else:\n",
        "  print(\"Login failed\")"
      ],
      "metadata": {
        "colab": {
          "base_uri": "https://localhost:8080/"
        },
        "id": "LqLf7BjB8KNR",
        "outputId": "426f6235-e9f2-40ea-e0dd-a9aeb4e65159"
      },
      "execution_count": 17,
      "outputs": [
        {
          "output_type": "stream",
          "name": "stdout",
          "text": [
            "Enter the username: admin\n",
            "Enter the password: 1234\n",
            "Login successful\n"
          ]
        }
      ]
    },
    {
      "cell_type": "markdown",
      "source": [
        "Q9 Write a program that takes three sides of a triangle as input and checks if those sides form a valid\n",
        "triangle. A triangle is valid if the sum of any two sides is greater than the third side.\n",
        "Check conditions like a + b > c, b + c > a, and a + c > b."
      ],
      "metadata": {
        "id": "19FqloHp9yAa"
      }
    },
    {
      "cell_type": "code",
      "source": [
        "a = int(input(\"enter a: \"))\n",
        "b = int(input(\"enter b: \"))\n",
        "c = int(input(\"enter c: \"))\n",
        "\n",
        "if(a+b>c and b+c>a and c+a>b):\n",
        "  print(\"Valid triangle\")\n",
        "else:\n",
        "  print(\"Invalid triangle\")"
      ],
      "metadata": {
        "colab": {
          "base_uri": "https://localhost:8080/"
        },
        "id": "OwLAzJ6u9WMZ",
        "outputId": "4692b395-1b08-442b-f447-e75e24793702"
      },
      "execution_count": 22,
      "outputs": [
        {
          "output_type": "stream",
          "name": "stdout",
          "text": [
            "enter a: 2\n",
            "enter b: 2\n",
            "enter c: 3\n",
            "Valid triangle\n"
          ]
        }
      ]
    },
    {
      "cell_type": "code",
      "source": [
        "weight = float(input(\"enter weight: \"))\n",
        "height = float(input(\"enter height: \"))\n",
        "\n",
        "bmi = weight/(height**2)\n",
        "\n",
        "if(bmi<18.5):\n",
        "  print(\"Underweight\")\n",
        "elif(18.5<=bmi<24.9):\n",
        "  print(\"Normal weight\")\n",
        "elif(25<=bmi<29.9):\n",
        "  print(\"overweight\")\n",
        "elif(bmi>=30):\n",
        "  print(\"obesity\")"
      ],
      "metadata": {
        "colab": {
          "base_uri": "https://localhost:8080/"
        },
        "id": "uYB__FID-_z6",
        "outputId": "a3edd568-519d-45ec-85ff-c1c008da26f5"
      },
      "execution_count": 24,
      "outputs": [
        {
          "output_type": "stream",
          "name": "stdout",
          "text": [
            "enter weight: 52\n",
            "enter height: 5.2\n",
            "Underweight\n"
          ]
        }
      ]
    },
    {
      "cell_type": "markdown",
      "source": [
        "Q10 Write a program that calculates the discount for a product based on its price:\n",
        "If price is greater than 1000, discount is 10%\n",
        "If price is between 500 and 1000, discount is 5%\n",
        "Otherwise, no discount\n",
        "Print the final price after applying the discount."
      ],
      "metadata": {
        "id": "F5S4Z40sMSBh"
      }
    },
    {
      "cell_type": "code",
      "source": [
        "price = int(input(\"Enter the price of the product: \"))\n",
        "\n",
        "if (price > 1000):\n",
        "    discount = price * (10/100)\n",
        "elif (500<=price<=1000):\n",
        "    discount = price * (5/100)\n",
        "else:\n",
        "    discount = 0\n",
        "\n",
        "final_price = price - discount\n",
        "print(f\"Final price after discount is: {final_price}\")"
      ],
      "metadata": {
        "colab": {
          "base_uri": "https://localhost:8080/"
        },
        "id": "5yKKJB3SMHV-",
        "outputId": "bd1d2a2e-ef58-4cb6-cf79-7d9220b02037"
      },
      "execution_count": 34,
      "outputs": [
        {
          "output_type": "stream",
          "name": "stdout",
          "text": [
            "Enter the price of the product: 2000\n",
            "Final price after discount is: 1800.0\n"
          ]
        }
      ]
    },
    {
      "cell_type": "markdown",
      "source": [
        "Q11 Write a program that simulates a simple ATM. The user should be able to:\n",
        "Check balance\n",
        "Deposit money\n",
        "Withdraw money (ensure the balance doesn't go negative) Use an if-else structure to handle the user's choices."
      ],
      "metadata": {
        "id": "lFaTOhOUNdbG"
      }
    },
    {
      "cell_type": "code",
      "source": [
        "balance = 2000\n",
        "\n",
        "print(\"1.check balance\")\n",
        "print(\"2.deposit money\")\n",
        "print(\"3.withdraw money\")\n",
        "\n",
        "choice = int(input(\"enter your choice(1-3): \"))\n",
        "\n",
        "if(choice==1):\n",
        "  print(f\"total balance is {balance}\")\n",
        "\n",
        "elif(choice==2):\n",
        "  deposit_amount= int(input(\"enter amount you want to deposit: \"))\n",
        "  if(deposit_amount>0):\n",
        "    balance+=deposit_amount\n",
        "    print(f\"{deposit_amount} added \")\n",
        "  else:\n",
        "    print(\"enter valid amount\")\n",
        "\n",
        "elif(choice==3):\n",
        "  withdraw_amount = int(input(\"enter amount you want to withdraw\"))\n",
        "  if(withdraw_amount <= balance and withdraw_amount >0 ):\n",
        "    print(f\"{withdraw_amount} withdrawed \")\n",
        "  elif(withdraw_amount <= 0):\n",
        "    print(\"enter valid amount\")\n",
        "  else:\n",
        "    print(\"insufficient balance\")\n",
        "\n",
        "else:\n",
        "  print(\"enter valid choice\")"
      ],
      "metadata": {
        "colab": {
          "base_uri": "https://localhost:8080/"
        },
        "id": "KV2pbu2wMjfO",
        "outputId": "79e9569f-36a1-4c3b-ae4b-552417cbf2a1"
      },
      "execution_count": 37,
      "outputs": [
        {
          "output_type": "stream",
          "name": "stdout",
          "text": [
            "1.check balance\n",
            "2.deposit money\n",
            "3.withdraw money\n",
            "enter your choice(1-3): 2\n",
            "enter amount you want to deposit: 500\n",
            "500 added \n"
          ]
        }
      ]
    },
    {
      "cell_type": "markdown",
      "source": [
        "Q12 Write a program that categorizes a given age into different groups:\n",
        "Infant (0-1 year)\n",
        "Toddler (2-4 years)\n",
        "Child (5-12 years)\n",
        "Teenager (13-19 years)\n",
        "Adult (20-59 years)\n",
        "Senior (60 years and above)"
      ],
      "metadata": {
        "id": "JGY034gKZgxn"
      }
    },
    {
      "cell_type": "code",
      "source": [
        "age = int(input(\"enter age: \"))\n",
        "if(age>=60):\n",
        "  print(\"senior\")\n",
        "elif(age>=20):\n",
        "  print(\"adult\")\n",
        "elif(age>=13):\n",
        "  print(\"Teenager\")\n",
        "elif(age>=5):\n",
        "  print(\"child\")\n",
        "elif(age>=2):\n",
        "  print(\"toddler\")\n",
        "else:\n",
        "  print(\"infant\")"
      ],
      "metadata": {
        "colab": {
          "base_uri": "https://localhost:8080/"
        },
        "id": "WYi39qcmY_lq",
        "outputId": "464e4d09-4a84-40d0-f8ae-ce7decfb9f7b"
      },
      "execution_count": 43,
      "outputs": [
        {
          "output_type": "stream",
          "name": "stdout",
          "text": [
            "enter age: 22\n",
            "adult\n"
          ]
        }
      ]
    },
    {
      "cell_type": "markdown",
      "source": [
        "Q13 Write a program that takes an integer (1-7) as input and prints the corresponding day of the week (1\n",
        "for Monday, 2 for Tuesday, etc.)."
      ],
      "metadata": {
        "id": "ZGJOO_2SZj4x"
      }
    },
    {
      "cell_type": "code",
      "source": [
        "num = 4\n",
        "if(num==1):\n",
        "  print(\"monday\")\n",
        "elif(num==2):\n",
        "  print(\"tuesday\")\n",
        "elif(num==3):\n",
        "  print(\"wednesday\")\n",
        "elif(num==4):\n",
        "  print(\"thursday\")\n",
        "elif(num==5):\n",
        "  print(\"friday\")\n",
        "elif(num==6):\n",
        "  print(\"saturday\")\n",
        "elif(num==7):\n",
        "  print(\"sunday\")\n",
        "else:\n",
        "  print(\"enter valid integer\")"
      ],
      "metadata": {
        "colab": {
          "base_uri": "https://localhost:8080/"
        },
        "id": "8tdKcHbOZtFK",
        "outputId": "c41b4b85-67c1-4e7f-ac74-0cc3133af9e9"
      },
      "execution_count": 44,
      "outputs": [
        {
          "output_type": "stream",
          "name": "stdout",
          "text": [
            "thursday\n"
          ]
        }
      ]
    },
    {
      "cell_type": "code",
      "source": [],
      "metadata": {
        "id": "D6FTS2eUeJht"
      },
      "execution_count": null,
      "outputs": []
    }
  ]
}