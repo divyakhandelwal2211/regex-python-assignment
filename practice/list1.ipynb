{
 "cells": [
  {
   "cell_type": "code",
   "execution_count": 4,
   "id": "93e8ced2",
   "metadata": {},
   "outputs": [
    {
     "name": "stdout",
     "output_type": "stream",
     "text": [
      "[9, 25, 81, 36, 4, 64, 16, 1]\n",
      "[6, 2, 8, 4]\n"
     ]
    }
   ],
   "source": [
    "lst = [3,5,9,6,2,8,4,1]\n",
    "\n",
    "lst_map = list(map(lambda a : a**2,lst))\n",
    "filter_lst = list(filter(lambda a: a%2==0,lst))\n",
    "\n",
    "print(lst_map)\n",
    "print(filter_lst)"
   ]
  },
  {
   "cell_type": "code",
   "execution_count": null,
   "id": "2e687a70",
   "metadata": {},
   "outputs": [
    {
     "name": "stdout",
     "output_type": "stream",
     "text": [
      "[5, 2]\n"
     ]
    }
   ],
   "source": [
    "def twosum(lst,target):\n",
    "    num_dict={}\n",
    "\n",
    "    for i,num in enumerate(lst):\n",
    "        diff = target - num\n",
    "        if diff in num_dict:\n",
    "            return [diff,num]   #return [num_map[diff], i]\n",
    "        num_dict[num] = i\n",
    "\n",
    "\n",
    "lst = [3,5,2,1]\n",
    "target = 7\n",
    "print(twosum(lst,target))\n",
    "\n"
   ]
  },
  {
   "cell_type": "code",
   "execution_count": 10,
   "id": "395c7456",
   "metadata": {},
   "outputs": [
    {
     "name": "stdout",
     "output_type": "stream",
     "text": [
      "palindrome\n"
     ]
    }
   ],
   "source": [
    "a  = [1,2,3,2,1]\n",
    "\n",
    "flag = 1\n",
    "for i in range(len(a)//2):\n",
    "    \n",
    "        if (a[i]!=a[-(i+1)]):\n",
    "            flag = 0\n",
    "            break\n",
    "\n",
    "if flag==1:\n",
    "    print('palindrome')\n",
    "else:\n",
    "    print('not palindrome')"
   ]
  },
  {
   "cell_type": "code",
   "execution_count": 11,
   "id": "9dd45906",
   "metadata": {},
   "outputs": [
    {
     "name": "stdout",
     "output_type": "stream",
     "text": [
      "[2, 6, 4]\n",
      "[3, 7, 1]\n"
     ]
    }
   ],
   "source": [
    "# Split a list into even and odd numbers.\n",
    "\n",
    "lst = [2,3,6,4,7,1]\n",
    "even_lst = []\n",
    "odd_lst = []\n",
    "\n",
    "for i in lst:\n",
    "    if i % 2 == 0:\n",
    "        even_lst.append(i)\n",
    "    else:\n",
    "        odd_lst.append(i)\n",
    "\n",
    "print(even_lst)\n",
    "print(odd_lst)"
   ]
  },
  {
   "cell_type": "code",
   "execution_count": 13,
   "id": "a45b523d",
   "metadata": {},
   "outputs": [
    {
     "name": "stdout",
     "output_type": "stream",
     "text": [
      "[1, 7, 3, 4, 2]\n"
     ]
    }
   ],
   "source": [
    "# Reverse a list in place without using slicing.\n",
    "\n",
    "lst = [2,4,3,7,1]\n",
    "res=[]\n",
    "\n",
    "for i in range(len(lst)):\n",
    "    res = [lst[i]]+res\n",
    "\n",
    "print(res)"
   ]
  },
  {
   "cell_type": "code",
   "execution_count": 14,
   "id": "c7d4aee4",
   "metadata": {},
   "outputs": [
    {
     "name": "stdout",
     "output_type": "stream",
     "text": [
      "[6, 2]\n"
     ]
    }
   ],
   "source": [
    "# Find common elements between two lists without using set().\n",
    "\n",
    "lst1 = [7,6,3,8,2]\n",
    "lst2 = [6,4,2,9,1]\n",
    "\n",
    "result = []\n",
    "\n",
    "for i in lst1:\n",
    "    if i in lst2:\n",
    "        result.append(i)\n",
    "\n",
    "print(result)\n",
    "\n"
   ]
  },
  {
   "cell_type": "code",
   "execution_count": 20,
   "id": "51963014",
   "metadata": {},
   "outputs": [
    {
     "name": "stdout",
     "output_type": "stream",
     "text": [
      "[4, 5, 1, 2, 3]\n"
     ]
    }
   ],
   "source": [
    "# Rotate a list by k positions.\n",
    "\n",
    "# Example: [1,2,3,4,5], k=2 → [4,5,1,2,3]\n",
    "\n",
    "lst = [1,2,3,4,5]\n",
    "k=2\n",
    "\n",
    "rotated_lst = [0]*5\n",
    "for i in range(len(lst)):\n",
    "    rotated_lst[(i+k)%len(lst)] = lst[i]\n",
    "\n",
    "print(rotated_lst)"
   ]
  },
  {
   "cell_type": "code",
   "execution_count": 21,
   "id": "847a23ca",
   "metadata": {},
   "outputs": [
    {
     "name": "stdout",
     "output_type": "stream",
     "text": [
      "[1, 2, 3, 4, 5]\n"
     ]
    }
   ],
   "source": [
    "# Flatten a nested list (without using libraries).\n",
    "\n",
    "# Example: [[1,2],[3,4],[5]] → [1,2,3,4,5]\n",
    "\n",
    "def flatten_list(lst):\n",
    "    result = []\n",
    "    for i in lst:\n",
    "        if type(i) == list:\n",
    "            result.extend(flatten_list(i))\n",
    "        else:\n",
    "            result.append(i)\n",
    "    \n",
    "    return result\n",
    "\n",
    "lst = [[1,2],[3,4],[5]]\n",
    "print(flatten_list(lst))\n",
    "\n",
    "    "
   ]
  },
  {
   "cell_type": "code",
   "execution_count": 23,
   "id": "367e57bb",
   "metadata": {},
   "outputs": [
    {
     "name": "stdout",
     "output_type": "stream",
     "text": [
      "[1, 3, 5, 2]\n"
     ]
    }
   ],
   "source": [
    "# Remove duplicates from a list while maintaining order.\n",
    "\n",
    "lst = [1,3,3,1,5,2,5,3,2]\n",
    "result=[]\n",
    "\n",
    "for i in lst:\n",
    "    if i not in result:\n",
    "        result.append(i)\n",
    "\n",
    "print(result)\n",
    "        "
   ]
  },
  {
   "cell_type": "code",
   "execution_count": 24,
   "id": "7c5b4f92",
   "metadata": {},
   "outputs": [
    {
     "name": "stdout",
     "output_type": "stream",
     "text": [
      "5\n"
     ]
    }
   ],
   "source": [
    "# Find the second largest element in a list without using built-in functions.\n",
    "\n",
    "lst = [3,7,2,5,1,4]\n",
    "\n",
    "largest = lst[0]\n",
    "second_largest = lst[1]\n",
    "\n",
    "for i in range(len(lst)):\n",
    "    if lst[i] > largest:\n",
    "        second_largest = largest\n",
    "        largest = lst[i]\n",
    "    \n",
    "    elif lst[i] > second_largest and lst[i]!=largest:\n",
    "        second_largest = lst[i]\n",
    "\n",
    "print(second_largest)"
   ]
  },
  {
   "cell_type": "code",
   "execution_count": null,
   "id": "6ba47c79",
   "metadata": {},
   "outputs": [
    {
     "name": "stdout",
     "output_type": "stream",
     "text": [
      "\n",
      "* \n",
      "* * \n",
      "* * * \n",
      "* * * * \n"
     ]
    }
   ],
   "source": [
    "n = 4\n",
    "\n",
    "for i in range(0,n+1):\n",
    "    for j in range(0,i):\n",
    "        print('*',end=\" \")\n",
    "    print()"
   ]
  },
  {
   "cell_type": "code",
   "execution_count": null,
   "id": "0330fcbc",
   "metadata": {},
   "outputs": [],
   "source": [
    "from abc import ABC , abstractmethod\n",
    "\n",
    "class A(ABC):\n",
    "\n",
    "    @abstractmethod\n",
    "    def show():\n",
    "        pass\n",
    "\n",
    "class B(A):\n",
    "    def show():\n",
    "        print(\"hello\")\n",
    "\n",
    "    "
   ]
  },
  {
   "cell_type": "code",
   "execution_count": null,
   "id": "8845ba4c",
   "metadata": {},
   "outputs": [
    {
     "name": "stdout",
     "output_type": "stream",
     "text": [
      "[1, 4, 9, 16]\n"
     ]
    }
   ],
   "source": [
    "lst = [1,2,3,4]\n",
    "\n",
    "map_lst = list(map(lambda a : a**2,lst))\n",
    "\n",
    "print(map_lst)"
   ]
  },
  {
   "cell_type": "code",
   "execution_count": 1,
   "id": "00022a6f",
   "metadata": {},
   "outputs": [
    {
     "name": "stdout",
     "output_type": "stream",
     "text": [
      "4\n"
     ]
    }
   ],
   "source": [
    "lst = [100, 4, 200, 1, 3, 2]\n",
    "num_set = set(lst)   # convert list to set for O(1) lookup\n",
    "longest = 0\n",
    "\n",
    "for num in num_set:\n",
    "    # if num - 1 not in num_set:  # start of a new sequence\n",
    "        count = 1\n",
    "        while num + count in num_set:\n",
    "            count += 1\n",
    "        longest = max(longest, count)\n",
    "\n",
    "print(longest)\n"
   ]
  },
  {
   "cell_type": "code",
   "execution_count": 2,
   "id": "3e93ba27",
   "metadata": {},
   "outputs": [
    {
     "name": "stdout",
     "output_type": "stream",
     "text": [
      "(4, 3)\n"
     ]
    }
   ],
   "source": [
    "lst = [4, 2, 1, 3]\n",
    "min_diff = 99999\n",
    "pair = ()\n",
    "\n",
    "for i in range(len(lst)):\n",
    "    for j in range(i+1, len(lst)):\n",
    "        diff = abs(lst[i] - lst[j])\n",
    "        if diff < min_diff:\n",
    "            min_diff = diff\n",
    "            pair = (lst[i], lst[j])\n",
    "\n",
    "print(pair)\n"
   ]
  },
  {
   "cell_type": "code",
   "execution_count": 3,
   "id": "9a5ed8f0",
   "metadata": {},
   "outputs": [
    {
     "name": "stdout",
     "output_type": "stream",
     "text": [
      "[1, 3, 6, 10]\n"
     ]
    }
   ],
   "source": [
    "lst = [1, 2, 3, 4]\n",
    "run_sum = []\n",
    "total = 0\n",
    "for i in lst:\n",
    "    total += i\n",
    "    run_sum.append(total)\n",
    "print(run_sum)\n"
   ]
  },
  {
   "cell_type": "code",
   "execution_count": 4,
   "id": "91340360",
   "metadata": {},
   "outputs": [
    {
     "name": "stdout",
     "output_type": "stream",
     "text": [
      "4\n"
     ]
    }
   ],
   "source": [
    "lst = [1, 1, 2, 2, 2, 3, 3, 3, 3, 2]\n",
    "max_streak = 1\n",
    "count = 1\n",
    "for i in range(1, len(lst)):\n",
    "    if lst[i] == lst[i-1]:\n",
    "        count += 1\n",
    "        if count > max_streak:\n",
    "            max_streak = count\n",
    "    else:\n",
    "        count = 1\n",
    "print(max_streak)\n"
   ]
  },
  {
   "cell_type": "code",
   "execution_count": 5,
   "id": "2dd830bd",
   "metadata": {},
   "outputs": [
    {
     "name": "stdout",
     "output_type": "stream",
     "text": [
      "4\n"
     ]
    }
   ],
   "source": [
    "lst = [100, 4, 200, 1, 3, 2]\n",
    "longest = 0\n",
    "for num in lst:\n",
    "    count = 1\n",
    "    while num + count in lst:\n",
    "        count += 1\n",
    "    if count > longest:\n",
    "        longest = count\n",
    "print(longest)\n"
   ]
  },
  {
   "cell_type": "code",
   "execution_count": 1,
   "id": "e1eeaba3",
   "metadata": {},
   "outputs": [
    {
     "name": "stdout",
     "output_type": "stream",
     "text": [
      "2\n"
     ]
    }
   ],
   "source": [
    "t = (1, 2, 2, 3, 3, 3, 4)\n",
    "count = 0\n",
    "checked = ()\n",
    "for i in t:\n",
    "    if i not in checked:\n",
    "        checked += (i,)\n",
    "        if t.count(i) > 1:\n",
    "            count += 1\n",
    "print(count)\n"
   ]
  },
  {
   "cell_type": "code",
   "execution_count": null,
   "id": "d59f6fe5",
   "metadata": {},
   "outputs": [],
   "source": []
  }
 ],
 "metadata": {
  "kernelspec": {
   "display_name": "Python 3",
   "language": "python",
   "name": "python3"
  },
  "language_info": {
   "codemirror_mode": {
    "name": "ipython",
    "version": 3
   },
   "file_extension": ".py",
   "mimetype": "text/x-python",
   "name": "python",
   "nbconvert_exporter": "python",
   "pygments_lexer": "ipython3",
   "version": "3.13.1"
  }
 },
 "nbformat": 4,
 "nbformat_minor": 5
}
