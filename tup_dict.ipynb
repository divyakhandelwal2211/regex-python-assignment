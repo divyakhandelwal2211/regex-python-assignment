{
 "cells": [
  {
   "cell_type": "code",
   "execution_count": 14,
   "id": "893c50de",
   "metadata": {},
   "outputs": [
    {
     "name": "stdout",
     "output_type": "stream",
     "text": [
      "(10, 20, 'abc')\n"
     ]
    }
   ],
   "source": [
    "my_tuple = 10,20,\"abc\"\n",
    "print(my_tuple)"
   ]
  },
  {
   "cell_type": "code",
   "execution_count": 15,
   "id": "ef749c13",
   "metadata": {},
   "outputs": [
    {
     "name": "stdout",
     "output_type": "stream",
     "text": [
      "3\n"
     ]
    }
   ],
   "source": [
    "my_tuple = 10,20,\"abc\",10,10\n",
    "print(my_tuple.count(10))"
   ]
  },
  {
   "cell_type": "code",
   "execution_count": 16,
   "id": "19383e08",
   "metadata": {},
   "outputs": [
    {
     "name": "stdout",
     "output_type": "stream",
     "text": [
      "2\n"
     ]
    }
   ],
   "source": [
    "my_tuple = 10,20,\"abc\"\n",
    "print(my_tuple.index(\"abc\"))"
   ]
  },
  {
   "cell_type": "code",
   "execution_count": 17,
   "id": "6ff98fbd",
   "metadata": {},
   "outputs": [
    {
     "name": "stdout",
     "output_type": "stream",
     "text": [
      "{10: 'aman', 11: 'aditya'}\n",
      "aditya\n"
     ]
    }
   ],
   "source": [
    "my_dict= {10:\"aman\",11:\"aditya\"}\n",
    "print(my_dict)\n",
    "print(my_dict[11])"
   ]
  },
  {
   "cell_type": "code",
   "execution_count": 18,
   "id": "d6d0b8c8",
   "metadata": {},
   "outputs": [
    {
     "name": "stdout",
     "output_type": "stream",
     "text": [
      "{10: 'aman', 11: 'aditya', 12: 'naina'}\n"
     ]
    }
   ],
   "source": [
    "#insert\n",
    "my_dict[12]=\"naina\"\n",
    "print(my_dict)"
   ]
  },
  {
   "cell_type": "code",
   "execution_count": 19,
   "id": "2113cfc0",
   "metadata": {},
   "outputs": [
    {
     "name": "stdout",
     "output_type": "stream",
     "text": [
      "{10: 'ujjwal', 11: 'aditya', 12: 'naina'}\n"
     ]
    }
   ],
   "source": [
    "#update\n",
    "my_dict[10]=\"ujjwal\"\n",
    "print(my_dict)"
   ]
  },
  {
   "cell_type": "code",
   "execution_count": null,
   "id": "74742681",
   "metadata": {},
   "outputs": [
    {
     "name": "stdout",
     "output_type": "stream",
     "text": [
      "{10: 'ujjwal', 12: 'naina'}\n",
      "aditya\n"
     ]
    }
   ],
   "source": [
    "#pop delete the value of key and can return also\n",
    "x = my_dict.pop(11)\n",
    "print(my_dict)\n",
    "print(x)\n"
   ]
  },
  {
   "cell_type": "code",
   "execution_count": 22,
   "id": "9977de3c",
   "metadata": {},
   "outputs": [
    {
     "name": "stdout",
     "output_type": "stream",
     "text": [
      "{10: 'naina', 11: 'aditya', 'salary': 500}\n"
     ]
    }
   ],
   "source": [
    "my_dict= {10:\"aman\",11:\"aditya\"}\n",
    "my_dict.update({10:\"naina\",\"salary\":500})\n",
    "print(my_dict)"
   ]
  },
  {
   "cell_type": "code",
   "execution_count": 23,
   "id": "57b3c82d",
   "metadata": {},
   "outputs": [
    {
     "name": "stdout",
     "output_type": "stream",
     "text": [
      "dict_keys([10, 11])\n",
      "dict_values(['aman', 'aditya'])\n",
      "dict_items([(10, 'aman'), (11, 'aditya')])\n"
     ]
    }
   ],
   "source": [
    "my_dict= {10:\"aman\",11:\"aditya\"}\n",
    "print(my_dict.keys())\n",
    "print(my_dict.values())\n",
    "print(my_dict.items())"
   ]
  },
  {
   "cell_type": "code",
   "execution_count": 24,
   "id": "3377413d",
   "metadata": {},
   "outputs": [
    {
     "name": "stdout",
     "output_type": "stream",
     "text": [
      "10 aman\n",
      "11 aditya\n"
     ]
    }
   ],
   "source": [
    "my_dict= {10:\"aman\",11:\"aditya\"}\n",
    "for i in my_dict:\n",
    "    print(i,my_dict[i])"
   ]
  },
  {
   "cell_type": "code",
   "execution_count": 25,
   "id": "3a28bb4c",
   "metadata": {},
   "outputs": [
    {
     "name": "stdout",
     "output_type": "stream",
     "text": [
      "10 aman\n",
      "11 aditya\n"
     ]
    }
   ],
   "source": [
    "my_dict= {10:\"aman\",11:\"aditya\"}\n",
    "for i in my_dict.keys():\n",
    "    print(i,my_dict[i])"
   ]
  },
  {
   "cell_type": "code",
   "execution_count": 26,
   "id": "7ea539ba",
   "metadata": {},
   "outputs": [
    {
     "name": "stdout",
     "output_type": "stream",
     "text": [
      "(10, 'aman')\n",
      "(11, 'aditya')\n"
     ]
    }
   ],
   "source": [
    "my_dict= {10:\"aman\",11:\"aditya\"}\n",
    "for i in my_dict.items():\n",
    "    print(i)"
   ]
  },
  {
   "cell_type": "code",
   "execution_count": 30,
   "id": "300220fb",
   "metadata": {},
   "outputs": [
    {
     "name": "stdout",
     "output_type": "stream",
     "text": [
      "{'total': 5}\n"
     ]
    }
   ],
   "source": [
    "s = \"hello\"\n",
    "my_dict={}\n",
    "count=0\n",
    "for i in range(len(s)):\n",
    "    count+=1\n",
    "    \n",
    "my_dict[\"total\"]=count\n",
    "print(my_dict)\n"
   ]
  },
  {
   "cell_type": "code",
   "execution_count": 31,
   "id": "90217bc0",
   "metadata": {},
   "outputs": [
    {
     "name": "stdout",
     "output_type": "stream",
     "text": [
      "{'salary': 85}\n"
     ]
    }
   ],
   "source": [
    "dict1= {'salary':80}\n",
    "dict1['salary']=dict1['salary']+5\n",
    "print(dict1)"
   ]
  },
  {
   "cell_type": "code",
   "execution_count": null,
   "id": "ce778e68",
   "metadata": {},
   "outputs": [
    {
     "name": "stdout",
     "output_type": "stream",
     "text": [
      "{'total': 5}\n"
     ]
    }
   ],
   "source": [
    "s = \"hello\"\n",
    "my_dict={'total':0}\n",
    "for i in s:\n",
    "    my_dict['total']+=1\n",
    "\n",
    "print(my_dict)"
   ]
  },
  {
   "cell_type": "code",
   "execution_count": 40,
   "id": "a3d5a1f1",
   "metadata": {},
   "outputs": [
    {
     "name": "stdout",
     "output_type": "stream",
     "text": [
      "{'vowel': 3}\n"
     ]
    }
   ],
   "source": [
    "s = 'helloasdf6123'\n",
    "my_dict={\"vowel\":0}\n",
    "for i in s:\n",
    "    if(i in \"aeiou\"):\n",
    "        my_dict['vowel']+=1\n",
    "\n",
    "print(my_dict)"
   ]
  },
  {
   "cell_type": "code",
   "execution_count": 47,
   "id": "f30bdd14",
   "metadata": {},
   "outputs": [
    {
     "name": "stdout",
     "output_type": "stream",
     "text": [
      "{'h': 1, 'e': 1, 'y': 1, 'v': 1, 'i': 1, 't': 1}\n"
     ]
    }
   ],
   "source": [
    "s = 'heyvit'\n",
    "my_dict={}\n",
    "for i in s:\n",
    "    my_dict[i]=1\n",
    "\n",
    "print(my_dict)\n",
    "        \n"
   ]
  },
  {
   "cell_type": "code",
   "execution_count": 50,
   "id": "4a4d6e24",
   "metadata": {},
   "outputs": [
    {
     "name": "stdout",
     "output_type": "stream",
     "text": [
      "{'h': 1, 'e': 1, 'y': 1, 'v': 1, 'i': 1, 't': 1}\n"
     ]
    }
   ],
   "source": [
    "s=\"heyvit\"\n",
    "mydict={}\n",
    "for i in s:\n",
    "    mydict[i]=1\n",
    "\n",
    "print(mydict)"
   ]
  },
  {
   "cell_type": "code",
   "execution_count": 3,
   "id": "6e54e31f",
   "metadata": {},
   "outputs": [
    {
     "name": "stdout",
     "output_type": "stream",
     "text": [
      "{'e': 3, 'o': 1, 'a': 1}\n"
     ]
    }
   ],
   "source": [
    "s= \"regex software\"\n",
    "result={}\n",
    "\n",
    "for i in s:\n",
    "    if i in 'aeiou':\n",
    "        if i in result:\n",
    "            result[i]+=1\n",
    "        else:\n",
    "            result[i]=1\n",
    "\n",
    "print(result)\n",
    "\n"
   ]
  },
  {
   "cell_type": "code",
   "execution_count": null,
   "id": "467336f3",
   "metadata": {},
   "outputs": [],
   "source": [
    "# number to roman"
   ]
  },
  {
   "cell_type": "code",
   "execution_count": 4,
   "id": "7032bf92",
   "metadata": {},
   "outputs": [
    {
     "name": "stdout",
     "output_type": "stream",
     "text": [
      "[15, 25, 35]\n"
     ]
    }
   ],
   "source": [
    "x = [10,20,30]\n",
    "y=[i+5 for i in x]\n",
    "print(y)"
   ]
  },
  {
   "cell_type": "code",
   "execution_count": 3,
   "id": "0b0bf28f",
   "metadata": {},
   "outputs": [
    {
     "name": "stdout",
     "output_type": "stream",
     "text": [
      "{'h': 1, 'e': 1, 'y': 1}\n"
     ]
    }
   ],
   "source": [
    "x={i:1 for i in 'hey'}\n",
    "print(x)"
   ]
  },
  {
   "cell_type": "code",
   "execution_count": 8,
   "id": "7640fe28",
   "metadata": {},
   "outputs": [
    {
     "name": "stdout",
     "output_type": "stream",
     "text": [
      "{80, 1, 2, 3, 'def', 7, 555}\n"
     ]
    }
   ],
   "source": [
    "#set\n",
    "#all value are unique\n",
    "#set is mutable\n",
    "#no index position\n",
    "\n",
    "myset = {1,2,3,1,1,1,\"def\",555,7}\n",
    "myset.add(80)\n",
    "myset.discard(1191)   # if value in set then it will delete it \n",
    "                    #otherwise move forward and don't give any error\n",
    "\n",
    "print(myset)\n"
   ]
  },
  {
   "cell_type": "code",
   "execution_count": 9,
   "id": "2f6d2b78",
   "metadata": {},
   "outputs": [
    {
     "data": {
      "text/plain": [
       "{10, 20, 30, 40, 50}"
      ]
     },
     "execution_count": 9,
     "metadata": {},
     "output_type": "execute_result"
    }
   ],
   "source": [
    "myset={10,20,30}\n",
    "myset2={40,50}\n",
    "myset.union(myset2)"
   ]
  },
  {
   "cell_type": "code",
   "execution_count": 10,
   "id": "fd1f4056",
   "metadata": {},
   "outputs": [
    {
     "data": {
      "text/plain": [
       "{30}"
      ]
     },
     "execution_count": 10,
     "metadata": {},
     "output_type": "execute_result"
    }
   ],
   "source": [
    "myset={10,20,30}\n",
    "myset2={30,50}\n",
    "myset.intersection(myset2)"
   ]
  },
  {
   "cell_type": "code",
   "execution_count": 14,
   "id": "a6632cc0",
   "metadata": {},
   "outputs": [
    {
     "name": "stdout",
     "output_type": "stream",
     "text": [
      "True\n",
      "False\n"
     ]
    }
   ],
   "source": [
    "myset = {10,20,30,40,50}\n",
    "myset2 = {40,50,30}\n",
    "myset3 = {40,50,30,'abc'}\n",
    "print(myset.issuperset(myset2))\n",
    "print(myset.issuperset(myset3))"
   ]
  },
  {
   "cell_type": "code",
   "execution_count": 15,
   "id": "d0a3d9a8",
   "metadata": {},
   "outputs": [
    {
     "name": "stdout",
     "output_type": "stream",
     "text": [
      "[1, 2, 3, 4, 5, 6]\n"
     ]
    }
   ],
   "source": [
    "num = [1, 2, 3, 2, 4, 5, 1, 6]\n",
    "for i in range(0, len(num)):\n",
    "    for j in range(i+1, len(num)):\n",
    "        if(num[j]==num[i]):\n",
    "            num.pop(j)\n",
    "            break\n",
    "print(num)"
   ]
  },
  {
   "cell_type": "code",
   "execution_count": 1,
   "id": "ab18410f",
   "metadata": {},
   "outputs": [
    {
     "name": "stdout",
     "output_type": "stream",
     "text": [
      "XLIX\n"
     ]
    }
   ],
   "source": [
    "x=49\n",
    "numbers=[1,4,5,9,10,40,50,90,100,400,500,900,1000]\n",
    "roman=['I','IV','V','IX','X','XL','L','XC','C','CD','D','CM','M']\n",
    "i = 12\n",
    "roman_numeral=''\n",
    "while x!=0:\n",
    "    if numbers[i]<=x:\n",
    "        roman_numeral+=roman[i]\n",
    "        x = x-numbers[i]\n",
    "    else:\n",
    "        i-=1\n",
    "\n",
    "print(roman_numeral)"
   ]
  },
  {
   "cell_type": "code",
   "execution_count": 9,
   "id": "df659507",
   "metadata": {},
   "outputs": [
    {
     "name": "stdout",
     "output_type": "stream",
     "text": [
      "XLIX\n"
     ]
    }
   ],
   "source": [
    "x = 49\n",
    "roman_dict = {\n",
    "    1:'I', 4: 'IV',5: 'V', 9: 'IX',10: 'X', 40: 'XL',50: 'L',\n",
    "    90: 'XC', 100: 'C',400: 'CD',500: 'D',900: 'CM',1000: 'M'\n",
    "}\n",
    "\n",
    "roman_numeral = ''\n",
    "for value in sorted(roman_dict.keys(),reverse=True):\n",
    "    while value<=x:\n",
    "        roman_numeral += roman_dict[value]\n",
    "        x -= value\n",
    "\n",
    "print(roman_numeral)\n"
   ]
  },
  {
   "cell_type": "code",
   "execution_count": null,
   "id": "5bdf764c",
   "metadata": {},
   "outputs": [],
   "source": []
  }
 ],
 "metadata": {
  "kernelspec": {
   "display_name": "Python 3",
   "language": "python",
   "name": "python3"
  },
  "language_info": {
   "codemirror_mode": {
    "name": "ipython",
    "version": 3
   },
   "file_extension": ".py",
   "mimetype": "text/x-python",
   "name": "python",
   "nbconvert_exporter": "python",
   "pygments_lexer": "ipython3",
   "version": "3.13.1"
  }
 },
 "nbformat": 4,
 "nbformat_minor": 5
}
